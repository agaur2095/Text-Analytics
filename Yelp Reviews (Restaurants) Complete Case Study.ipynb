{
 "cells": [
  {
   "cell_type": "markdown",
   "id": "53db5b8a",
   "metadata": {},
   "source": [
    "##### This Analysis is on the restraunt reviews in Yelp ,The Analysis is based on EDA(e.g. Number of reviews in each category),Sentiment Analaysis and Text Classification to predict the review is Negative or Not .In addtion to that the Multiclass-Classification to predict  the rating(stars) based on the review."
   ]
  },
  {
   "cell_type": "code",
   "execution_count": 274,
   "id": "d4063ded",
   "metadata": {},
   "outputs": [],
   "source": [
    "import pandas as pd\n",
    "import numpy as np\n",
    "import matplotlib.pyplot as plt\n",
    "import seaborn as sns\n",
    "import datetime as dt\n",
    "from nltk import pos_tag\n",
    "#from sklearn.feature_extraction.text import CountVectorizer, TfidfVectorizer\n",
    "\n",
    "\n",
    "#FeatureEngineering\n",
    "from sklearn.feature_extraction.text import TfidfVectorizer, CountVectorizer, HashingVectorizer, TfidfTransformer\n",
    "from sklearn import model_selection, preprocessing, linear_model, naive_bayes, metrics, svm, decomposition, ensemble\n",
    "from sklearn.linear_model import LogisticRegression\n",
    "from sklearn.model_selection import train_test_split"
   ]
  },
  {
   "cell_type": "code",
   "execution_count": 275,
   "id": "0654a013",
   "metadata": {},
   "outputs": [],
   "source": [
    "yelp=pd.read_csv('D:/Python/Dataset/reviews.csv')"
   ]
  },
  {
   "cell_type": "code",
   "execution_count": 276,
   "id": "ad9aaffc",
   "metadata": {},
   "outputs": [
    {
     "data": {
      "text/html": [
       "<div>\n",
       "<style scoped>\n",
       "    .dataframe tbody tr th:only-of-type {\n",
       "        vertical-align: middle;\n",
       "    }\n",
       "\n",
       "    .dataframe tbody tr th {\n",
       "        vertical-align: top;\n",
       "    }\n",
       "\n",
       "    .dataframe thead th {\n",
       "        text-align: right;\n",
       "    }\n",
       "</style>\n",
       "<table border=\"1\" class=\"dataframe\">\n",
       "  <thead>\n",
       "    <tr style=\"text-align: right;\">\n",
       "      <th></th>\n",
       "      <th>business_id</th>\n",
       "      <th>date</th>\n",
       "      <th>review_id</th>\n",
       "      <th>stars</th>\n",
       "      <th>text</th>\n",
       "      <th>type</th>\n",
       "      <th>user_id</th>\n",
       "      <th>cool</th>\n",
       "      <th>useful</th>\n",
       "      <th>funny</th>\n",
       "    </tr>\n",
       "  </thead>\n",
       "  <tbody>\n",
       "    <tr>\n",
       "      <th>0</th>\n",
       "      <td>9yKzy9PApeiPPOUJEtnvkg</td>\n",
       "      <td>2011-01-26</td>\n",
       "      <td>fWKvX83p0-ka4JS3dc6E5A</td>\n",
       "      <td>5</td>\n",
       "      <td>My wife took me here on my birthday for breakf...</td>\n",
       "      <td>review</td>\n",
       "      <td>rLtl8ZkDX5vH5nAx9C3q5Q</td>\n",
       "      <td>2</td>\n",
       "      <td>5</td>\n",
       "      <td>0</td>\n",
       "    </tr>\n",
       "    <tr>\n",
       "      <th>1</th>\n",
       "      <td>ZRJwVLyzEJq1VAihDhYiow</td>\n",
       "      <td>2011-07-27</td>\n",
       "      <td>IjZ33sJrzXqU-0X6U8NwyA</td>\n",
       "      <td>5</td>\n",
       "      <td>I have no idea why some people give bad review...</td>\n",
       "      <td>review</td>\n",
       "      <td>0a2KyEL0d3Yb1V6aivbIuQ</td>\n",
       "      <td>0</td>\n",
       "      <td>0</td>\n",
       "      <td>0</td>\n",
       "    </tr>\n",
       "    <tr>\n",
       "      <th>2</th>\n",
       "      <td>6oRAC4uyJCsJl1X0WZpVSA</td>\n",
       "      <td>2012-06-14</td>\n",
       "      <td>IESLBzqUCLdSzSqm0eCSxQ</td>\n",
       "      <td>4</td>\n",
       "      <td>love the gyro plate. Rice is so good and I als...</td>\n",
       "      <td>review</td>\n",
       "      <td>0hT2KtfLiobPvh6cDC8JQg</td>\n",
       "      <td>0</td>\n",
       "      <td>1</td>\n",
       "      <td>0</td>\n",
       "    </tr>\n",
       "    <tr>\n",
       "      <th>3</th>\n",
       "      <td>_1QQZuf4zZOyFCvXc0o6Vg</td>\n",
       "      <td>2010-05-27</td>\n",
       "      <td>G-WvGaISbqqaMHlNnByodA</td>\n",
       "      <td>5</td>\n",
       "      <td>Rosie, Dakota, and I LOVE Chaparral Dog Park!!...</td>\n",
       "      <td>review</td>\n",
       "      <td>uZetl9T0NcROGOyFfughhg</td>\n",
       "      <td>1</td>\n",
       "      <td>2</td>\n",
       "      <td>0</td>\n",
       "    </tr>\n",
       "    <tr>\n",
       "      <th>4</th>\n",
       "      <td>6ozycU1RpktNG2-1BroVtw</td>\n",
       "      <td>2012-01-05</td>\n",
       "      <td>1uJFq2r5QfJG_6ExMRCaGw</td>\n",
       "      <td>5</td>\n",
       "      <td>General Manager Scott Petello is a good egg!!!...</td>\n",
       "      <td>review</td>\n",
       "      <td>vYmM4KTsC8ZfQBg-j5MWkw</td>\n",
       "      <td>0</td>\n",
       "      <td>0</td>\n",
       "      <td>0</td>\n",
       "    </tr>\n",
       "  </tbody>\n",
       "</table>\n",
       "</div>"
      ],
      "text/plain": [
       "              business_id        date               review_id  stars  \\\n",
       "0  9yKzy9PApeiPPOUJEtnvkg  2011-01-26  fWKvX83p0-ka4JS3dc6E5A      5   \n",
       "1  ZRJwVLyzEJq1VAihDhYiow  2011-07-27  IjZ33sJrzXqU-0X6U8NwyA      5   \n",
       "2  6oRAC4uyJCsJl1X0WZpVSA  2012-06-14  IESLBzqUCLdSzSqm0eCSxQ      4   \n",
       "3  _1QQZuf4zZOyFCvXc0o6Vg  2010-05-27  G-WvGaISbqqaMHlNnByodA      5   \n",
       "4  6ozycU1RpktNG2-1BroVtw  2012-01-05  1uJFq2r5QfJG_6ExMRCaGw      5   \n",
       "\n",
       "                                                text    type  \\\n",
       "0  My wife took me here on my birthday for breakf...  review   \n",
       "1  I have no idea why some people give bad review...  review   \n",
       "2  love the gyro plate. Rice is so good and I als...  review   \n",
       "3  Rosie, Dakota, and I LOVE Chaparral Dog Park!!...  review   \n",
       "4  General Manager Scott Petello is a good egg!!!...  review   \n",
       "\n",
       "                  user_id  cool  useful  funny  \n",
       "0  rLtl8ZkDX5vH5nAx9C3q5Q     2       5      0  \n",
       "1  0a2KyEL0d3Yb1V6aivbIuQ     0       0      0  \n",
       "2  0hT2KtfLiobPvh6cDC8JQg     0       1      0  \n",
       "3  uZetl9T0NcROGOyFfughhg     1       2      0  \n",
       "4  vYmM4KTsC8ZfQBg-j5MWkw     0       0      0  "
      ]
     },
     "execution_count": 276,
     "metadata": {},
     "output_type": "execute_result"
    }
   ],
   "source": [
    "yelp.head(5)"
   ]
  },
  {
   "cell_type": "code",
   "execution_count": 277,
   "id": "e5e62bda",
   "metadata": {},
   "outputs": [],
   "source": [
    "### EDA"
   ]
  },
  {
   "cell_type": "code",
   "execution_count": 278,
   "id": "2687b0ba",
   "metadata": {},
   "outputs": [],
   "source": [
    "### Which year has the highest number of reviews"
   ]
  },
  {
   "cell_type": "code",
   "execution_count": 279,
   "id": "f8ce5b6e",
   "metadata": {},
   "outputs": [
    {
     "name": "stdout",
     "output_type": "stream",
     "text": [
      "<class 'pandas.core.frame.DataFrame'>\n",
      "RangeIndex: 10000 entries, 0 to 9999\n",
      "Data columns (total 10 columns):\n",
      " #   Column       Non-Null Count  Dtype \n",
      "---  ------       --------------  ----- \n",
      " 0   business_id  10000 non-null  object\n",
      " 1   date         10000 non-null  object\n",
      " 2   review_id    10000 non-null  object\n",
      " 3   stars        10000 non-null  int64 \n",
      " 4   text         10000 non-null  object\n",
      " 5   type         10000 non-null  object\n",
      " 6   user_id      10000 non-null  object\n",
      " 7   cool         10000 non-null  int64 \n",
      " 8   useful       10000 non-null  int64 \n",
      " 9   funny        10000 non-null  int64 \n",
      "dtypes: int64(4), object(6)\n",
      "memory usage: 781.4+ KB\n"
     ]
    }
   ],
   "source": [
    "yelp.info()"
   ]
  },
  {
   "cell_type": "code",
   "execution_count": 280,
   "id": "4ab62cc7",
   "metadata": {},
   "outputs": [],
   "source": [
    "yelp['date']=pd.to_datetime(yelp['date'])"
   ]
  },
  {
   "cell_type": "code",
   "execution_count": 281,
   "id": "f4366f1b",
   "metadata": {},
   "outputs": [
    {
     "data": {
      "text/plain": [
       "<AxesSubplot:xlabel='date', ylabel='count'>"
      ]
     },
     "execution_count": 281,
     "metadata": {},
     "output_type": "execute_result"
    },
    {
     "data": {
      "image/png": "[encoded data removed]",
      "text/plain": [
       "<Figure size 432x288 with 1 Axes>"
      ]
     },
     "metadata": {
      "needs_background": "light"
     },
     "output_type": "display_data"
    }
   ],
   "source": [
    "sns.countplot(x=yelp['date'].dt.year,data=yelp)"
   ]
  },
  {
   "cell_type": "code",
   "execution_count": 282,
   "id": "e1dde389",
   "metadata": {},
   "outputs": [],
   "source": [
    "### Number of stars in each category"
   ]
  },
  {
   "cell_type": "code",
   "execution_count": 283,
   "id": "5d3d6d67",
   "metadata": {},
   "outputs": [
    {
     "data": {
      "text/plain": [
       "<AxesSubplot:xlabel='stars', ylabel='count'>"
      ]
     },
     "execution_count": 283,
     "metadata": {},
     "output_type": "execute_result"
    },
    {
     "data": {
      "image/png": "[encoded data removed]",
      "text/plain": [
       "<Figure size 432x288 with 1 Axes>"
      ]
     },
     "metadata": {
      "needs_background": "light"
     },
     "output_type": "display_data"
    }
   ],
   "source": [
    "sns.countplot(x='stars',data=yelp)"
   ]
  },
  {
   "cell_type": "code",
   "execution_count": 284,
   "id": "00777dab",
   "metadata": {},
   "outputs": [],
   "source": [
    "###length of top 10 comments"
   ]
  },
  {
   "cell_type": "code",
   "execution_count": 285,
   "id": "da08014b",
   "metadata": {},
   "outputs": [],
   "source": [
    "index_10=list(yelp['text'].apply(lambda x: len(x.split())).sort_values(ascending=False).head(10).index)"
   ]
  },
  {
   "cell_type": "code",
   "execution_count": 286,
   "id": "3ca7108e",
   "metadata": {},
   "outputs": [
    {
     "data": {
      "text/plain": [
       "3686    I went to Eddie's House last night with the BF...\n",
       "6611    Wow. Wow Freakin' Wow.\\n\\nI have never, ever h...\n",
       "1870    Okay, it almost seems a shame to burst the bub...\n",
       "4033    I hate having to give out three star reviews. ...\n",
       "6587    I don't get it!!\\nMy husband, daughter and I w...\n",
       "6237    \"Fuck you all, we hope you die.\\nThat's the Tr...\n",
       "55      In our continuing quest to identify cool, loca...\n",
       "1513    Uh-oh. Where am I? \\n\\nThe view from atop the ...\n",
       "2311    Pizzeria Bianco: Before and After \\nCited as \"...\n",
       "1656    Let me start by saying after my experience I s...\n",
       "Name: text, dtype: object"
      ]
     },
     "execution_count": 286,
     "metadata": {},
     "output_type": "execute_result"
    }
   ],
   "source": [
    "yelp.loc[index_10,'text']"
   ]
  },
  {
   "cell_type": "code",
   "execution_count": 287,
   "id": "2d3473d2",
   "metadata": {},
   "outputs": [],
   "source": [
    "###length of bottom 10 comments"
   ]
  },
  {
   "cell_type": "code",
   "execution_count": 288,
   "id": "8b0b632f",
   "metadata": {},
   "outputs": [],
   "source": [
    "index_b_10=list(yelp['text'].apply(lambda x: len(x.split())).sort_values(ascending=True).head(10).index)"
   ]
  },
  {
   "cell_type": "code",
   "execution_count": 289,
   "id": "5525bfea",
   "metadata": {},
   "outputs": [
    {
     "data": {
      "text/plain": [
       "1919    D-scust-ing.\n",
       "4968      Excellent.\n",
       "6450               X\n",
       "7881            Meh.\n",
       "4091        Intense!\n",
       "5105       Excellent\n",
       "3854      Awesome!!!\n",
       "9688          Yummy!\n",
       "2931          Super!\n",
       "6708              Go\n",
       "Name: text, dtype: object"
      ]
     },
     "execution_count": 289,
     "metadata": {},
     "output_type": "execute_result"
    }
   ],
   "source": [
    "yelp.loc[index_b_10,'text']"
   ]
  },
  {
   "cell_type": "code",
   "execution_count": 290,
   "id": "0a32fbe9",
   "metadata": {},
   "outputs": [],
   "source": [
    "from nltk.stem.wordnet import WordNetLemmatizer \n",
    "from nltk.tokenize import word_tokenize\n"
   ]
  },
  {
   "cell_type": "code",
   "execution_count": 291,
   "id": "126a9a7d",
   "metadata": {},
   "outputs": [],
   "source": [
    "lemmatizer=WordNetLemmatizer()"
   ]
  },
  {
   "cell_type": "code",
   "execution_count": 292,
   "id": "75a7e010",
   "metadata": {},
   "outputs": [],
   "source": [
    "#s=\"I went to Eddie's House last night with the BF\""
   ]
  },
  {
   "cell_type": "code",
   "execution_count": 293,
   "id": "4b346d08",
   "metadata": {},
   "outputs": [],
   "source": [
    "def lemmatization(x):\n",
    "    \n",
    "    return ' '.join([lemmatizer.lemmatize(word,pos='a') for word in word_tokenize(x)])  ### parts of speech as verb\n",
    "\n",
    "yelp['text'] = yelp['text'].apply(lemmatization)"
   ]
  },
  {
   "cell_type": "code",
   "execution_count": 294,
   "id": "5144fbe3",
   "metadata": {},
   "outputs": [],
   "source": [
    "### Text Cleaning"
   ]
  },
  {
   "cell_type": "code",
   "execution_count": 295,
   "id": "5323dfa0",
   "metadata": {},
   "outputs": [],
   "source": [
    "import re\n",
    "\n",
    "def clean_text(x):\n",
    "    x=x.lower()\n",
    "    x=x.strip()\n",
    "    x=re.sub(r\"[-()\\\"#/@;:{}`+=~|.!?,'0-9]\", \"\", x)\n",
    "    \n",
    "    return (x)"
   ]
  },
  {
   "cell_type": "code",
   "execution_count": 296,
   "id": "00c44883",
   "metadata": {},
   "outputs": [],
   "source": [
    "yelp[\"text\"]=yelp[\"text\"].apply(clean_text)"
   ]
  },
  {
   "cell_type": "code",
   "execution_count": null,
   "id": "596c453f",
   "metadata": {},
   "outputs": [],
   "source": []
  },
  {
   "cell_type": "code",
   "execution_count": 297,
   "id": "bad17c84",
   "metadata": {},
   "outputs": [],
   "source": [
    "###Sentitment Analysis"
   ]
  },
  {
   "cell_type": "code",
   "execution_count": 298,
   "id": "062ba8ff",
   "metadata": {},
   "outputs": [],
   "source": [
    "import textblob\n",
    "from textblob import TextBlob\n"
   ]
  },
  {
   "cell_type": "code",
   "execution_count": 299,
   "id": "613b659b",
   "metadata": {},
   "outputs": [],
   "source": [
    " yelp['sentiment_score']=yelp[\"text\"].apply(lambda x: TextBlob(x).sentiment.polarity)"
   ]
  },
  {
   "cell_type": "code",
   "execution_count": 300,
   "id": "bddf5715",
   "metadata": {},
   "outputs": [],
   "source": [
    "yelp=yelp.drop(columns=['business_id','review_id','user_id'])"
   ]
  },
  {
   "cell_type": "code",
   "execution_count": 301,
   "id": "97ab40f3",
   "metadata": {},
   "outputs": [
    {
     "data": {
      "text/html": [
       "<div>\n",
       "<style scoped>\n",
       "    .dataframe tbody tr th:only-of-type {\n",
       "        vertical-align: middle;\n",
       "    }\n",
       "\n",
       "    .dataframe tbody tr th {\n",
       "        vertical-align: top;\n",
       "    }\n",
       "\n",
       "    .dataframe thead th {\n",
       "        text-align: right;\n",
       "    }\n",
       "</style>\n",
       "<table border=\"1\" class=\"dataframe\">\n",
       "  <thead>\n",
       "    <tr style=\"text-align: right;\">\n",
       "      <th></th>\n",
       "      <th>date</th>\n",
       "      <th>stars</th>\n",
       "      <th>text</th>\n",
       "      <th>type</th>\n",
       "      <th>cool</th>\n",
       "      <th>useful</th>\n",
       "      <th>funny</th>\n",
       "      <th>sentiment_score</th>\n",
       "    </tr>\n",
       "  </thead>\n",
       "  <tbody>\n",
       "    <tr>\n",
       "      <th>0</th>\n",
       "      <td>2011-01-26</td>\n",
       "      <td>5</td>\n",
       "      <td>my wife took me here on my birthday for breakf...</td>\n",
       "      <td>review</td>\n",
       "      <td>2</td>\n",
       "      <td>5</td>\n",
       "      <td>0</td>\n",
       "      <td>0.413580</td>\n",
       "    </tr>\n",
       "    <tr>\n",
       "      <th>1</th>\n",
       "      <td>2011-07-27</td>\n",
       "      <td>5</td>\n",
       "      <td>i have no idea why some people give bad review...</td>\n",
       "      <td>review</td>\n",
       "      <td>0</td>\n",
       "      <td>0</td>\n",
       "      <td>0</td>\n",
       "      <td>0.220870</td>\n",
       "    </tr>\n",
       "    <tr>\n",
       "      <th>2</th>\n",
       "      <td>2012-06-14</td>\n",
       "      <td>4</td>\n",
       "      <td>love the gyro plate  rice is so good and i als...</td>\n",
       "      <td>review</td>\n",
       "      <td>0</td>\n",
       "      <td>1</td>\n",
       "      <td>0</td>\n",
       "      <td>0.600000</td>\n",
       "    </tr>\n",
       "    <tr>\n",
       "      <th>3</th>\n",
       "      <td>2010-05-27</td>\n",
       "      <td>5</td>\n",
       "      <td>rosie  dakota  and i love chaparral dog park  ...</td>\n",
       "      <td>review</td>\n",
       "      <td>1</td>\n",
       "      <td>2</td>\n",
       "      <td>0</td>\n",
       "      <td>0.493333</td>\n",
       "    </tr>\n",
       "    <tr>\n",
       "      <th>4</th>\n",
       "      <td>2012-01-05</td>\n",
       "      <td>5</td>\n",
       "      <td>general manager scott petello is a good egg   ...</td>\n",
       "      <td>review</td>\n",
       "      <td>0</td>\n",
       "      <td>0</td>\n",
       "      <td>0</td>\n",
       "      <td>0.361111</td>\n",
       "    </tr>\n",
       "    <tr>\n",
       "      <th>...</th>\n",
       "      <td>...</td>\n",
       "      <td>...</td>\n",
       "      <td>...</td>\n",
       "      <td>...</td>\n",
       "      <td>...</td>\n",
       "      <td>...</td>\n",
       "      <td>...</td>\n",
       "      <td>...</td>\n",
       "    </tr>\n",
       "    <tr>\n",
       "      <th>9995</th>\n",
       "      <td>2012-07-28</td>\n",
       "      <td>3</td>\n",
       "      <td>first visit  had lunch here today  used my gro...</td>\n",
       "      <td>review</td>\n",
       "      <td>1</td>\n",
       "      <td>2</td>\n",
       "      <td>0</td>\n",
       "      <td>0.217708</td>\n",
       "    </tr>\n",
       "    <tr>\n",
       "      <th>9996</th>\n",
       "      <td>2012-01-18</td>\n",
       "      <td>4</td>\n",
       "      <td>should be called house of deliciousness  i cou...</td>\n",
       "      <td>review</td>\n",
       "      <td>0</td>\n",
       "      <td>0</td>\n",
       "      <td>0</td>\n",
       "      <td>0.375541</td>\n",
       "    </tr>\n",
       "    <tr>\n",
       "      <th>9997</th>\n",
       "      <td>2010-11-16</td>\n",
       "      <td>4</td>\n",
       "      <td>i recently visited olive and ivy for business ...</td>\n",
       "      <td>review</td>\n",
       "      <td>0</td>\n",
       "      <td>0</td>\n",
       "      <td>0</td>\n",
       "      <td>0.256820</td>\n",
       "    </tr>\n",
       "    <tr>\n",
       "      <th>9998</th>\n",
       "      <td>2012-12-02</td>\n",
       "      <td>2</td>\n",
       "      <td>my nephew just moved to scottsdale recently so...</td>\n",
       "      <td>review</td>\n",
       "      <td>0</td>\n",
       "      <td>0</td>\n",
       "      <td>0</td>\n",
       "      <td>-0.100000</td>\n",
       "    </tr>\n",
       "    <tr>\n",
       "      <th>9999</th>\n",
       "      <td>2010-10-16</td>\n",
       "      <td>5</td>\n",
       "      <td>locations  all  star average  i think arizona...</td>\n",
       "      <td>review</td>\n",
       "      <td>0</td>\n",
       "      <td>0</td>\n",
       "      <td>0</td>\n",
       "      <td>0.241667</td>\n",
       "    </tr>\n",
       "  </tbody>\n",
       "</table>\n",
       "<p>10000 rows × 8 columns</p>\n",
       "</div>"
      ],
      "text/plain": [
       "           date  stars                                               text  \\\n",
       "0    2011-01-26      5  my wife took me here on my birthday for breakf...   \n",
       "1    2011-07-27      5  i have no idea why some people give bad review...   \n",
       "2    2012-06-14      4  love the gyro plate  rice is so good and i als...   \n",
       "3    2010-05-27      5  rosie  dakota  and i love chaparral dog park  ...   \n",
       "4    2012-01-05      5  general manager scott petello is a good egg   ...   \n",
       "...         ...    ...                                                ...   \n",
       "9995 2012-07-28      3  first visit  had lunch here today  used my gro...   \n",
       "9996 2012-01-18      4  should be called house of deliciousness  i cou...   \n",
       "9997 2010-11-16      4  i recently visited olive and ivy for business ...   \n",
       "9998 2012-12-02      2  my nephew just moved to scottsdale recently so...   \n",
       "9999 2010-10-16      5   locations  all  star average  i think arizona...   \n",
       "\n",
       "        type  cool  useful  funny  sentiment_score  \n",
       "0     review     2       5      0         0.413580  \n",
       "1     review     0       0      0         0.220870  \n",
       "2     review     0       1      0         0.600000  \n",
       "3     review     1       2      0         0.493333  \n",
       "4     review     0       0      0         0.361111  \n",
       "...      ...   ...     ...    ...              ...  \n",
       "9995  review     1       2      0         0.217708  \n",
       "9996  review     0       0      0         0.375541  \n",
       "9997  review     0       0      0         0.256820  \n",
       "9998  review     0       0      0        -0.100000  \n",
       "9999  review     0       0      0         0.241667  \n",
       "\n",
       "[10000 rows x 8 columns]"
      ]
     },
     "execution_count": 301,
     "metadata": {},
     "output_type": "execute_result"
    }
   ],
   "source": [
    "yelp"
   ]
  },
  {
   "cell_type": "code",
   "execution_count": 302,
   "id": "23dd0daf",
   "metadata": {},
   "outputs": [
    {
     "data": {
      "text/plain": [
       "0       0.413580\n",
       "1       0.220870\n",
       "2       0.600000\n",
       "3       0.493333\n",
       "4       0.361111\n",
       "          ...   \n",
       "9995    0.217708\n",
       "9996    0.375541\n",
       "9997    0.256820\n",
       "9998   -0.100000\n",
       "9999    0.241667\n",
       "Name: sentiment_score, Length: 10000, dtype: float64"
      ]
     },
     "execution_count": 302,
     "metadata": {},
     "output_type": "execute_result"
    }
   ],
   "source": [
    "yelp['sentiment_score']"
   ]
  },
  {
   "cell_type": "code",
   "execution_count": 303,
   "id": "177b1c36",
   "metadata": {},
   "outputs": [
    {
     "data": {
      "text/html": [
       "<div>\n",
       "<style scoped>\n",
       "    .dataframe tbody tr th:only-of-type {\n",
       "        vertical-align: middle;\n",
       "    }\n",
       "\n",
       "    .dataframe tbody tr th {\n",
       "        vertical-align: top;\n",
       "    }\n",
       "\n",
       "    .dataframe thead th {\n",
       "        text-align: right;\n",
       "    }\n",
       "</style>\n",
       "<table border=\"1\" class=\"dataframe\">\n",
       "  <thead>\n",
       "    <tr style=\"text-align: right;\">\n",
       "      <th></th>\n",
       "      <th>date</th>\n",
       "      <th>stars</th>\n",
       "      <th>text</th>\n",
       "      <th>type</th>\n",
       "      <th>cool</th>\n",
       "      <th>useful</th>\n",
       "      <th>funny</th>\n",
       "      <th>sentiment_score</th>\n",
       "    </tr>\n",
       "  </thead>\n",
       "  <tbody>\n",
       "    <tr>\n",
       "      <th>395</th>\n",
       "      <td>2009-02-03</td>\n",
       "      <td>1</td>\n",
       "      <td>just say no  this place is truly awful  too ba...</td>\n",
       "      <td>review</td>\n",
       "      <td>4</td>\n",
       "      <td>4</td>\n",
       "      <td>2</td>\n",
       "      <td>-0.850000</td>\n",
       "    </tr>\n",
       "    <tr>\n",
       "      <th>773</th>\n",
       "      <td>2012-05-29</td>\n",
       "      <td>1</td>\n",
       "      <td>this was absolutely horrible  i got the suprem...</td>\n",
       "      <td>review</td>\n",
       "      <td>1</td>\n",
       "      <td>2</td>\n",
       "      <td>0</td>\n",
       "      <td>-1.000000</td>\n",
       "    </tr>\n",
       "    <tr>\n",
       "      <th>1287</th>\n",
       "      <td>2008-08-28</td>\n",
       "      <td>5</td>\n",
       "      <td>obsessed  like  ivegotthetwangytartwithdrawals...</td>\n",
       "      <td>review</td>\n",
       "      <td>3</td>\n",
       "      <td>3</td>\n",
       "      <td>5</td>\n",
       "      <td>-0.500000</td>\n",
       "    </tr>\n",
       "    <tr>\n",
       "      <th>1517</th>\n",
       "      <td>2012-02-04</td>\n",
       "      <td>1</td>\n",
       "      <td>nasty workers and over priced trash</td>\n",
       "      <td>review</td>\n",
       "      <td>0</td>\n",
       "      <td>0</td>\n",
       "      <td>1</td>\n",
       "      <td>-1.000000</td>\n",
       "    </tr>\n",
       "    <tr>\n",
       "      <th>2333</th>\n",
       "      <td>2012-12-09</td>\n",
       "      <td>1</td>\n",
       "      <td>not only was the music the bad i have ever hea...</td>\n",
       "      <td>review</td>\n",
       "      <td>0</td>\n",
       "      <td>0</td>\n",
       "      <td>0</td>\n",
       "      <td>-0.540000</td>\n",
       "    </tr>\n",
       "    <tr>\n",
       "      <th>3075</th>\n",
       "      <td>2011-12-05</td>\n",
       "      <td>5</td>\n",
       "      <td>unfortunately out of business</td>\n",
       "      <td>review</td>\n",
       "      <td>0</td>\n",
       "      <td>2</td>\n",
       "      <td>0</td>\n",
       "      <td>-0.500000</td>\n",
       "    </tr>\n",
       "    <tr>\n",
       "      <th>3266</th>\n",
       "      <td>2011-07-24</td>\n",
       "      <td>1</td>\n",
       "      <td>absolutely awful  these guys have no idea what...</td>\n",
       "      <td>review</td>\n",
       "      <td>0</td>\n",
       "      <td>0</td>\n",
       "      <td>0</td>\n",
       "      <td>-1.000000</td>\n",
       "    </tr>\n",
       "    <tr>\n",
       "      <th>3668</th>\n",
       "      <td>2013-01-04</td>\n",
       "      <td>2</td>\n",
       "      <td>i rather go to native or zipps  we have had ba...</td>\n",
       "      <td>review</td>\n",
       "      <td>0</td>\n",
       "      <td>0</td>\n",
       "      <td>0</td>\n",
       "      <td>-0.700000</td>\n",
       "    </tr>\n",
       "    <tr>\n",
       "      <th>3709</th>\n",
       "      <td>2012-08-20</td>\n",
       "      <td>1</td>\n",
       "      <td>terrible rolls  the dragon was so so  the cali...</td>\n",
       "      <td>review</td>\n",
       "      <td>0</td>\n",
       "      <td>0</td>\n",
       "      <td>0</td>\n",
       "      <td>-0.625000</td>\n",
       "    </tr>\n",
       "    <tr>\n",
       "      <th>3975</th>\n",
       "      <td>2012-11-08</td>\n",
       "      <td>2</td>\n",
       "      <td>over priced  mediocre food  service so so  we ...</td>\n",
       "      <td>review</td>\n",
       "      <td>0</td>\n",
       "      <td>2</td>\n",
       "      <td>0</td>\n",
       "      <td>-0.500000</td>\n",
       "    </tr>\n",
       "    <tr>\n",
       "      <th>4499</th>\n",
       "      <td>2011-04-26</td>\n",
       "      <td>1</td>\n",
       "      <td>i got a bbq chicken sandwich and all the bones...</td>\n",
       "      <td>review</td>\n",
       "      <td>1</td>\n",
       "      <td>2</td>\n",
       "      <td>1</td>\n",
       "      <td>-0.671429</td>\n",
       "    </tr>\n",
       "    <tr>\n",
       "      <th>4766</th>\n",
       "      <td>2012-09-08</td>\n",
       "      <td>1</td>\n",
       "      <td>very bad food</td>\n",
       "      <td>review</td>\n",
       "      <td>0</td>\n",
       "      <td>1</td>\n",
       "      <td>0</td>\n",
       "      <td>-0.910000</td>\n",
       "    </tr>\n",
       "    <tr>\n",
       "      <th>4995</th>\n",
       "      <td>2009-12-30</td>\n",
       "      <td>1</td>\n",
       "      <td>filthy place  bad tasteless food  rude waitres...</td>\n",
       "      <td>review</td>\n",
       "      <td>0</td>\n",
       "      <td>0</td>\n",
       "      <td>1</td>\n",
       "      <td>-0.600000</td>\n",
       "    </tr>\n",
       "    <tr>\n",
       "      <th>5200</th>\n",
       "      <td>2008-08-01</td>\n",
       "      <td>4</td>\n",
       "      <td>realized i rank this a   what am i insane</td>\n",
       "      <td>review</td>\n",
       "      <td>1</td>\n",
       "      <td>0</td>\n",
       "      <td>2</td>\n",
       "      <td>-0.900000</td>\n",
       "    </tr>\n",
       "    <tr>\n",
       "      <th>5558</th>\n",
       "      <td>2011-06-27</td>\n",
       "      <td>1</td>\n",
       "      <td>this place is a freaking joke  expect an overc...</td>\n",
       "      <td>review</td>\n",
       "      <td>0</td>\n",
       "      <td>1</td>\n",
       "      <td>0</td>\n",
       "      <td>-0.733333</td>\n",
       "    </tr>\n",
       "    <tr>\n",
       "      <th>5812</th>\n",
       "      <td>2012-06-18</td>\n",
       "      <td>1</td>\n",
       "      <td>i would nt send my bad enemy to this place</td>\n",
       "      <td>review</td>\n",
       "      <td>0</td>\n",
       "      <td>0</td>\n",
       "      <td>0</td>\n",
       "      <td>-0.700000</td>\n",
       "    </tr>\n",
       "    <tr>\n",
       "      <th>6726</th>\n",
       "      <td>2012-08-13</td>\n",
       "      <td>5</td>\n",
       "      <td>brown bag chicken sammich  mac n cheese  fried...</td>\n",
       "      <td>review</td>\n",
       "      <td>0</td>\n",
       "      <td>0</td>\n",
       "      <td>0</td>\n",
       "      <td>-0.600000</td>\n",
       "    </tr>\n",
       "    <tr>\n",
       "      <th>7065</th>\n",
       "      <td>2011-06-11</td>\n",
       "      <td>1</td>\n",
       "      <td>this place is over priced and the service is h...</td>\n",
       "      <td>review</td>\n",
       "      <td>0</td>\n",
       "      <td>1</td>\n",
       "      <td>0</td>\n",
       "      <td>-0.695000</td>\n",
       "    </tr>\n",
       "    <tr>\n",
       "      <th>7130</th>\n",
       "      <td>2010-08-17</td>\n",
       "      <td>1</td>\n",
       "      <td>i was not impressed  the food was bad &amp; expens...</td>\n",
       "      <td>review</td>\n",
       "      <td>0</td>\n",
       "      <td>0</td>\n",
       "      <td>0</td>\n",
       "      <td>-0.508333</td>\n",
       "    </tr>\n",
       "    <tr>\n",
       "      <th>7142</th>\n",
       "      <td>2012-01-11</td>\n",
       "      <td>1</td>\n",
       "      <td>worst enchiladas ever and decor from a  s atte...</td>\n",
       "      <td>review</td>\n",
       "      <td>0</td>\n",
       "      <td>0</td>\n",
       "      <td>0</td>\n",
       "      <td>-0.500000</td>\n",
       "    </tr>\n",
       "    <tr>\n",
       "      <th>7350</th>\n",
       "      <td>2012-01-31</td>\n",
       "      <td>2</td>\n",
       "      <td>this place not recommend  food was cold  rice ...</td>\n",
       "      <td>review</td>\n",
       "      <td>0</td>\n",
       "      <td>0</td>\n",
       "      <td>0</td>\n",
       "      <td>-0.600000</td>\n",
       "    </tr>\n",
       "    <tr>\n",
       "      <th>8384</th>\n",
       "      <td>2009-10-07</td>\n",
       "      <td>1</td>\n",
       "      <td>in addition to sucking  it s also expensive</td>\n",
       "      <td>review</td>\n",
       "      <td>0</td>\n",
       "      <td>0</td>\n",
       "      <td>0</td>\n",
       "      <td>-0.500000</td>\n",
       "    </tr>\n",
       "    <tr>\n",
       "      <th>8453</th>\n",
       "      <td>2010-06-29</td>\n",
       "      <td>4</td>\n",
       "      <td>they outta chicken or day just dont had none</td>\n",
       "      <td>review</td>\n",
       "      <td>0</td>\n",
       "      <td>1</td>\n",
       "      <td>1</td>\n",
       "      <td>-0.600000</td>\n",
       "    </tr>\n",
       "    <tr>\n",
       "      <th>8611</th>\n",
       "      <td>2011-05-14</td>\n",
       "      <td>1</td>\n",
       "      <td>the wash ai nt bad  but the process to get it ...</td>\n",
       "      <td>review</td>\n",
       "      <td>0</td>\n",
       "      <td>1</td>\n",
       "      <td>0</td>\n",
       "      <td>-0.590000</td>\n",
       "    </tr>\n",
       "    <tr>\n",
       "      <th>9374</th>\n",
       "      <td>2011-07-12</td>\n",
       "      <td>1</td>\n",
       "      <td>bad  food was horrible  do not waste your time...</td>\n",
       "      <td>review</td>\n",
       "      <td>1</td>\n",
       "      <td>0</td>\n",
       "      <td>0</td>\n",
       "      <td>-0.533333</td>\n",
       "    </tr>\n",
       "    <tr>\n",
       "      <th>9924</th>\n",
       "      <td>2012-07-07</td>\n",
       "      <td>1</td>\n",
       "      <td>horrible service</td>\n",
       "      <td>review</td>\n",
       "      <td>0</td>\n",
       "      <td>1</td>\n",
       "      <td>0</td>\n",
       "      <td>-1.000000</td>\n",
       "    </tr>\n",
       "  </tbody>\n",
       "</table>\n",
       "</div>"
      ],
      "text/plain": [
       "           date  stars                                               text  \\\n",
       "395  2009-02-03      1  just say no  this place is truly awful  too ba...   \n",
       "773  2012-05-29      1  this was absolutely horrible  i got the suprem...   \n",
       "1287 2008-08-28      5  obsessed  like  ivegotthetwangytartwithdrawals...   \n",
       "1517 2012-02-04      1                nasty workers and over priced trash   \n",
       "2333 2012-12-09      1  not only was the music the bad i have ever hea...   \n",
       "3075 2011-12-05      5                     unfortunately out of business    \n",
       "3266 2011-07-24      1  absolutely awful  these guys have no idea what...   \n",
       "3668 2013-01-04      2  i rather go to native or zipps  we have had ba...   \n",
       "3709 2012-08-20      1  terrible rolls  the dragon was so so  the cali...   \n",
       "3975 2012-11-08      2  over priced  mediocre food  service so so  we ...   \n",
       "4499 2011-04-26      1  i got a bbq chicken sandwich and all the bones...   \n",
       "4766 2012-09-08      1                                     very bad food    \n",
       "4995 2009-12-30      1  filthy place  bad tasteless food  rude waitres...   \n",
       "5200 2008-08-01      4        realized i rank this a   what am i insane     \n",
       "5558 2011-06-27      1  this place is a freaking joke  expect an overc...   \n",
       "5812 2012-06-18      1        i would nt send my bad enemy to this place    \n",
       "6726 2012-08-13      5  brown bag chicken sammich  mac n cheese  fried...   \n",
       "7065 2011-06-11      1  this place is over priced and the service is h...   \n",
       "7130 2010-08-17      1  i was not impressed  the food was bad & expens...   \n",
       "7142 2012-01-11      1  worst enchiladas ever and decor from a  s atte...   \n",
       "7350 2012-01-31      2  this place not recommend  food was cold  rice ...   \n",
       "8384 2009-10-07      1       in addition to sucking  it s also expensive    \n",
       "8453 2010-06-29      4     they outta chicken or day just dont had none     \n",
       "8611 2011-05-14      1  the wash ai nt bad  but the process to get it ...   \n",
       "9374 2011-07-12      1  bad  food was horrible  do not waste your time...   \n",
       "9924 2012-07-07      1                                  horrible service    \n",
       "\n",
       "        type  cool  useful  funny  sentiment_score  \n",
       "395   review     4       4      2        -0.850000  \n",
       "773   review     1       2      0        -1.000000  \n",
       "1287  review     3       3      5        -0.500000  \n",
       "1517  review     0       0      1        -1.000000  \n",
       "2333  review     0       0      0        -0.540000  \n",
       "3075  review     0       2      0        -0.500000  \n",
       "3266  review     0       0      0        -1.000000  \n",
       "3668  review     0       0      0        -0.700000  \n",
       "3709  review     0       0      0        -0.625000  \n",
       "3975  review     0       2      0        -0.500000  \n",
       "4499  review     1       2      1        -0.671429  \n",
       "4766  review     0       1      0        -0.910000  \n",
       "4995  review     0       0      1        -0.600000  \n",
       "5200  review     1       0      2        -0.900000  \n",
       "5558  review     0       1      0        -0.733333  \n",
       "5812  review     0       0      0        -0.700000  \n",
       "6726  review     0       0      0        -0.600000  \n",
       "7065  review     0       1      0        -0.695000  \n",
       "7130  review     0       0      0        -0.508333  \n",
       "7142  review     0       0      0        -0.500000  \n",
       "7350  review     0       0      0        -0.600000  \n",
       "8384  review     0       0      0        -0.500000  \n",
       "8453  review     0       1      1        -0.600000  \n",
       "8611  review     0       1      0        -0.590000  \n",
       "9374  review     1       0      0        -0.533333  \n",
       "9924  review     0       1      0        -1.000000  "
      ]
     },
     "execution_count": 303,
     "metadata": {},
     "output_type": "execute_result"
    }
   ],
   "source": [
    "yelp.loc[yelp.sentiment_score<=-0.5,:]"
   ]
  },
  {
   "cell_type": "code",
   "execution_count": 304,
   "id": "6b9931dd",
   "metadata": {},
   "outputs": [
    {
     "data": {
      "text/plain": [
       "'my nephew just moved to scottsdale recently so me and a bunch of friends brought him here to show him a local bar that he and the girlfriend could come shoot pool  watch football  play volleyball etc  well  we were nt there minutes and  kids were running around the pool tables  messing up our games and screaming  i could nt believe the staff was allowing this to happen  they were hitting the pool sticks on everything and crying when their mom attempted  in vain  to quiet them  you d think the mom would leave at this point with her kids  um  no  the staff did seem annoyed as well but said nothing  then  it happened  she said  you guys good behave or mommy will be fired    holy shit  she works there   even bad  shame on that owner for allowing this to happen  and that employee needs to recognize this  you work at a bar  not a daycare  a bar   '"
      ]
     },
     "execution_count": 304,
     "metadata": {},
     "output_type": "execute_result"
    }
   ],
   "source": [
    "yelp.loc[9998,'text']"
   ]
  },
  {
   "cell_type": "code",
   "execution_count": 305,
   "id": "cd4e25f1",
   "metadata": {},
   "outputs": [],
   "source": [
    "#### In this analysis of sentiment score we can see that some words have  sentiment score but the comment entred is ony fiew words,here w can eliminate  those sentence from the data."
   ]
  },
  {
   "cell_type": "code",
   "execution_count": 306,
   "id": "7b2dac66",
   "metadata": {},
   "outputs": [],
   "source": [
    "yelp['word_len']=yelp['text'].apply(lambda x:len(x.strip()))"
   ]
  },
  {
   "cell_type": "code",
   "execution_count": 307,
   "id": "73689098",
   "metadata": {},
   "outputs": [
    {
     "data": {
      "text/plain": [
       "217             love krista \n",
       "284            great service\n",
       "420        love the food    \n",
       "679         excellent burger\n",
       "1075         nicnacs galore \n",
       "2016      amazing  romantic \n",
       "2240    we loved this place \n",
       "2247         love the wings \n",
       "3054     no bad for a chain \n",
       "3921           great service\n",
       "4626     i love jimmy johns \n",
       "4667      best in the valley\n",
       "4759        standard target \n",
       "4766          very bad food \n",
       "6004          great sandwich\n",
       "6448           awesome pool \n",
       "6682          best in town  \n",
       "7181    fresh and delicious \n",
       "7607           fun dive bar \n",
       "8021     they are wonderful \n",
       "8480     best sushi in town \n",
       "8514         out of business\n",
       "8658    this place is great \n",
       "8721     this place is home \n",
       "9050       we love dr steve \n",
       "9172        love this store \n",
       "9238       glorified pei wei\n",
       "9924       horrible service \n",
       "9933      it is a salad bar \n",
       "9947         love five guys \n",
       "Name: text, dtype: object"
      ]
     },
     "execution_count": 307,
     "metadata": {},
     "output_type": "execute_result"
    }
   ],
   "source": [
    "yelp.loc[(yelp.word_len>10)  &(yelp.word_len<20),'text']"
   ]
  },
  {
   "cell_type": "code",
   "execution_count": 308,
   "id": "8bdcd6fd",
   "metadata": {},
   "outputs": [
    {
     "data": {
      "text/plain": [
       "'love the gyro plate  rice is so good and i also dig their candy selection  '"
      ]
     },
     "execution_count": 308,
     "metadata": {},
     "output_type": "execute_result"
    }
   ],
   "source": [
    "yelp.loc[2,'text']"
   ]
  },
  {
   "cell_type": "code",
   "execution_count": 309,
   "id": "896e6f4e",
   "metadata": {},
   "outputs": [
    {
     "data": {
      "text/plain": [
       "1290       no good\n",
       "1919    dscusting \n",
       "2733     good food\n",
       "2892    great job \n",
       "2931        super \n",
       "3854    awesome   \n",
       "4091      intense \n",
       "4968    excellent \n",
       "5105     excellent\n",
       "6450             x\n",
       "6708            go\n",
       "7881          meh \n",
       "9688        yummy \n",
       "Name: text, dtype: object"
      ]
     },
     "execution_count": 309,
     "metadata": {},
     "output_type": "execute_result"
    }
   ],
   "source": [
    "yelp.loc[(yelp.word_len<10),'text']"
   ]
  },
  {
   "cell_type": "code",
   "execution_count": 310,
   "id": "dd4352a7",
   "metadata": {},
   "outputs": [],
   "source": [
    "### We can remoe those rows which have text length less than 10 letters,because that are direct words with not much information."
   ]
  },
  {
   "cell_type": "code",
   "execution_count": 311,
   "id": "a94ba674",
   "metadata": {},
   "outputs": [],
   "source": [
    "yelp=yelp.loc[(yelp.word_len>10)]"
   ]
  },
  {
   "cell_type": "code",
   "execution_count": null,
   "id": "a363afbe",
   "metadata": {},
   "outputs": [],
   "source": []
  },
  {
   "cell_type": "code",
   "execution_count": 312,
   "id": "1138fbd8",
   "metadata": {},
   "outputs": [
    {
     "name": "stderr",
     "output_type": "stream",
     "text": [
      "C:\\Users\\gaura\\AppData\\Local\\Temp\\ipykernel_1444\\1282234547.py:1: SettingWithCopyWarning: \n",
      "A value is trying to be set on a copy of a slice from a DataFrame.\n",
      "Try using .loc[row_indexer,col_indexer] = value instead\n",
      "\n",
      "See the caveats in the documentation: https://pandas.pydata.org/pandas-docs/stable/user_guide/indexing.html#returning-a-view-versus-a-copy\n",
      "  yelp['sentiment']=np.where(yelp.sentiment_score>0.1,\"Positive\",np.where(yelp.sentiment_score<-0.1,\"Negative\",\"Neurtal\"))\n"
     ]
    }
   ],
   "source": [
    "yelp['sentiment']=np.where(yelp.sentiment_score>0.1,\"Positive\",np.where(yelp.sentiment_score<-0.1,\"Negative\",\"Neurtal\"))"
   ]
  },
  {
   "cell_type": "code",
   "execution_count": 313,
   "id": "fa9fc108",
   "metadata": {},
   "outputs": [
    {
     "data": {
      "text/html": [
       "<div>\n",
       "<style scoped>\n",
       "    .dataframe tbody tr th:only-of-type {\n",
       "        vertical-align: middle;\n",
       "    }\n",
       "\n",
       "    .dataframe tbody tr th {\n",
       "        vertical-align: top;\n",
       "    }\n",
       "\n",
       "    .dataframe thead th {\n",
       "        text-align: right;\n",
       "    }\n",
       "</style>\n",
       "<table border=\"1\" class=\"dataframe\">\n",
       "  <thead>\n",
       "    <tr style=\"text-align: right;\">\n",
       "      <th></th>\n",
       "      <th>date</th>\n",
       "      <th>stars</th>\n",
       "      <th>text</th>\n",
       "      <th>type</th>\n",
       "      <th>cool</th>\n",
       "      <th>useful</th>\n",
       "      <th>funny</th>\n",
       "      <th>sentiment_score</th>\n",
       "      <th>word_len</th>\n",
       "      <th>sentiment</th>\n",
       "    </tr>\n",
       "  </thead>\n",
       "  <tbody>\n",
       "    <tr>\n",
       "      <th>0</th>\n",
       "      <td>2011-01-26</td>\n",
       "      <td>5</td>\n",
       "      <td>my wife took me here on my birthday for breakf...</td>\n",
       "      <td>review</td>\n",
       "      <td>2</td>\n",
       "      <td>5</td>\n",
       "      <td>0</td>\n",
       "      <td>0.413580</td>\n",
       "      <td>871</td>\n",
       "      <td>Positive</td>\n",
       "    </tr>\n",
       "    <tr>\n",
       "      <th>1</th>\n",
       "      <td>2011-07-27</td>\n",
       "      <td>5</td>\n",
       "      <td>i have no idea why some people give bad review...</td>\n",
       "      <td>review</td>\n",
       "      <td>0</td>\n",
       "      <td>0</td>\n",
       "      <td>0</td>\n",
       "      <td>0.220870</td>\n",
       "      <td>1315</td>\n",
       "      <td>Positive</td>\n",
       "    </tr>\n",
       "    <tr>\n",
       "      <th>2</th>\n",
       "      <td>2012-06-14</td>\n",
       "      <td>4</td>\n",
       "      <td>love the gyro plate  rice is so good and i als...</td>\n",
       "      <td>review</td>\n",
       "      <td>0</td>\n",
       "      <td>1</td>\n",
       "      <td>0</td>\n",
       "      <td>0.600000</td>\n",
       "      <td>73</td>\n",
       "      <td>Positive</td>\n",
       "    </tr>\n",
       "    <tr>\n",
       "      <th>3</th>\n",
       "      <td>2010-05-27</td>\n",
       "      <td>5</td>\n",
       "      <td>rosie  dakota  and i love chaparral dog park  ...</td>\n",
       "      <td>review</td>\n",
       "      <td>1</td>\n",
       "      <td>2</td>\n",
       "      <td>0</td>\n",
       "      <td>0.493333</td>\n",
       "      <td>414</td>\n",
       "      <td>Positive</td>\n",
       "    </tr>\n",
       "    <tr>\n",
       "      <th>4</th>\n",
       "      <td>2012-01-05</td>\n",
       "      <td>5</td>\n",
       "      <td>general manager scott petello is a good egg   ...</td>\n",
       "      <td>review</td>\n",
       "      <td>0</td>\n",
       "      <td>0</td>\n",
       "      <td>0</td>\n",
       "      <td>0.361111</td>\n",
       "      <td>453</td>\n",
       "      <td>Positive</td>\n",
       "    </tr>\n",
       "    <tr>\n",
       "      <th>...</th>\n",
       "      <td>...</td>\n",
       "      <td>...</td>\n",
       "      <td>...</td>\n",
       "      <td>...</td>\n",
       "      <td>...</td>\n",
       "      <td>...</td>\n",
       "      <td>...</td>\n",
       "      <td>...</td>\n",
       "      <td>...</td>\n",
       "      <td>...</td>\n",
       "    </tr>\n",
       "    <tr>\n",
       "      <th>9995</th>\n",
       "      <td>2012-07-28</td>\n",
       "      <td>3</td>\n",
       "      <td>first visit  had lunch here today  used my gro...</td>\n",
       "      <td>review</td>\n",
       "      <td>1</td>\n",
       "      <td>2</td>\n",
       "      <td>0</td>\n",
       "      <td>0.217708</td>\n",
       "      <td>649</td>\n",
       "      <td>Positive</td>\n",
       "    </tr>\n",
       "    <tr>\n",
       "      <th>9996</th>\n",
       "      <td>2012-01-18</td>\n",
       "      <td>4</td>\n",
       "      <td>should be called house of deliciousness  i cou...</td>\n",
       "      <td>review</td>\n",
       "      <td>0</td>\n",
       "      <td>0</td>\n",
       "      <td>0</td>\n",
       "      <td>0.375541</td>\n",
       "      <td>877</td>\n",
       "      <td>Positive</td>\n",
       "    </tr>\n",
       "    <tr>\n",
       "      <th>9997</th>\n",
       "      <td>2010-11-16</td>\n",
       "      <td>4</td>\n",
       "      <td>i recently visited olive and ivy for business ...</td>\n",
       "      <td>review</td>\n",
       "      <td>0</td>\n",
       "      <td>0</td>\n",
       "      <td>0</td>\n",
       "      <td>0.256820</td>\n",
       "      <td>1408</td>\n",
       "      <td>Positive</td>\n",
       "    </tr>\n",
       "    <tr>\n",
       "      <th>9998</th>\n",
       "      <td>2012-12-02</td>\n",
       "      <td>2</td>\n",
       "      <td>my nephew just moved to scottsdale recently so...</td>\n",
       "      <td>review</td>\n",
       "      <td>0</td>\n",
       "      <td>0</td>\n",
       "      <td>0</td>\n",
       "      <td>-0.100000</td>\n",
       "      <td>850</td>\n",
       "      <td>Neurtal</td>\n",
       "    </tr>\n",
       "    <tr>\n",
       "      <th>9999</th>\n",
       "      <td>2010-10-16</td>\n",
       "      <td>5</td>\n",
       "      <td>locations  all  star average  i think arizona...</td>\n",
       "      <td>review</td>\n",
       "      <td>0</td>\n",
       "      <td>0</td>\n",
       "      <td>0</td>\n",
       "      <td>0.241667</td>\n",
       "      <td>440</td>\n",
       "      <td>Positive</td>\n",
       "    </tr>\n",
       "  </tbody>\n",
       "</table>\n",
       "<p>9983 rows × 10 columns</p>\n",
       "</div>"
      ],
      "text/plain": [
       "           date  stars                                               text  \\\n",
       "0    2011-01-26      5  my wife took me here on my birthday for breakf...   \n",
       "1    2011-07-27      5  i have no idea why some people give bad review...   \n",
       "2    2012-06-14      4  love the gyro plate  rice is so good and i als...   \n",
       "3    2010-05-27      5  rosie  dakota  and i love chaparral dog park  ...   \n",
       "4    2012-01-05      5  general manager scott petello is a good egg   ...   \n",
       "...         ...    ...                                                ...   \n",
       "9995 2012-07-28      3  first visit  had lunch here today  used my gro...   \n",
       "9996 2012-01-18      4  should be called house of deliciousness  i cou...   \n",
       "9997 2010-11-16      4  i recently visited olive and ivy for business ...   \n",
       "9998 2012-12-02      2  my nephew just moved to scottsdale recently so...   \n",
       "9999 2010-10-16      5   locations  all  star average  i think arizona...   \n",
       "\n",
       "        type  cool  useful  funny  sentiment_score  word_len sentiment  \n",
       "0     review     2       5      0         0.413580       871  Positive  \n",
       "1     review     0       0      0         0.220870      1315  Positive  \n",
       "2     review     0       1      0         0.600000        73  Positive  \n",
       "3     review     1       2      0         0.493333       414  Positive  \n",
       "4     review     0       0      0         0.361111       453  Positive  \n",
       "...      ...   ...     ...    ...              ...       ...       ...  \n",
       "9995  review     1       2      0         0.217708       649  Positive  \n",
       "9996  review     0       0      0         0.375541       877  Positive  \n",
       "9997  review     0       0      0         0.256820      1408  Positive  \n",
       "9998  review     0       0      0        -0.100000       850   Neurtal  \n",
       "9999  review     0       0      0         0.241667       440  Positive  \n",
       "\n",
       "[9983 rows x 10 columns]"
      ]
     },
     "execution_count": 313,
     "metadata": {},
     "output_type": "execute_result"
    }
   ],
   "source": [
    "yelp"
   ]
  },
  {
   "cell_type": "code",
   "execution_count": 314,
   "id": "288fc9d2",
   "metadata": {},
   "outputs": [],
   "source": [
    "### Now we can do the analysis to by using the cross tab"
   ]
  },
  {
   "cell_type": "code",
   "execution_count": 315,
   "id": "3984b86d",
   "metadata": {},
   "outputs": [
    {
     "data": {
      "text/html": [
       "<div>\n",
       "<style scoped>\n",
       "    .dataframe tbody tr th:only-of-type {\n",
       "        vertical-align: middle;\n",
       "    }\n",
       "\n",
       "    .dataframe tbody tr th {\n",
       "        vertical-align: top;\n",
       "    }\n",
       "\n",
       "    .dataframe thead th {\n",
       "        text-align: right;\n",
       "    }\n",
       "</style>\n",
       "<table border=\"1\" class=\"dataframe\">\n",
       "  <thead>\n",
       "    <tr style=\"text-align: right;\">\n",
       "      <th>sentiment</th>\n",
       "      <th>Negative</th>\n",
       "      <th>Neurtal</th>\n",
       "      <th>Positive</th>\n",
       "    </tr>\n",
       "    <tr>\n",
       "      <th>stars</th>\n",
       "      <th></th>\n",
       "      <th></th>\n",
       "      <th></th>\n",
       "    </tr>\n",
       "  </thead>\n",
       "  <tbody>\n",
       "    <tr>\n",
       "      <th>1</th>\n",
       "      <td>188</td>\n",
       "      <td>379</td>\n",
       "      <td>180</td>\n",
       "    </tr>\n",
       "    <tr>\n",
       "      <th>2</th>\n",
       "      <td>75</td>\n",
       "      <td>401</td>\n",
       "      <td>450</td>\n",
       "    </tr>\n",
       "    <tr>\n",
       "      <th>3</th>\n",
       "      <td>27</td>\n",
       "      <td>345</td>\n",
       "      <td>1087</td>\n",
       "    </tr>\n",
       "    <tr>\n",
       "      <th>4</th>\n",
       "      <td>23</td>\n",
       "      <td>376</td>\n",
       "      <td>3125</td>\n",
       "    </tr>\n",
       "    <tr>\n",
       "      <th>5</th>\n",
       "      <td>19</td>\n",
       "      <td>253</td>\n",
       "      <td>3055</td>\n",
       "    </tr>\n",
       "  </tbody>\n",
       "</table>\n",
       "</div>"
      ],
      "text/plain": [
       "sentiment  Negative  Neurtal  Positive\n",
       "stars                                 \n",
       "1               188      379       180\n",
       "2                75      401       450\n",
       "3                27      345      1087\n",
       "4                23      376      3125\n",
       "5                19      253      3055"
      ]
     },
     "execution_count": 315,
     "metadata": {},
     "output_type": "execute_result"
    }
   ],
   "source": [
    "pd.crosstab(yelp.stars,yelp.sentiment)"
   ]
  },
  {
   "cell_type": "code",
   "execution_count": 316,
   "id": "169f557d",
   "metadata": {},
   "outputs": [
    {
     "data": {
      "text/plain": [
       "84      really  i ca nt believe this place has receive...\n",
       "89      i was really excited about this event  maybe m...\n",
       "113     unless you are a regular or look like your wal...\n",
       "119     take your money elsewhere  unless you ve got k...\n",
       "126     my friend kept telling me how good their lunch...\n",
       "                              ...                        \n",
       "9818    mucho gusto es mucho mierda  let me say first ...\n",
       "9833    my significant other had a $  off coupon from ...\n",
       "9846    no  do nt go  do nt do it  this was my first v...\n",
       "9898    do not eat here if you think a bathroom in any...\n",
       "9987    the food is delicious  the service  discrimina...\n",
       "Name: text, Length: 180, dtype: object"
      ]
     },
     "execution_count": 316,
     "metadata": {},
     "output_type": "execute_result"
    }
   ],
   "source": [
    "yelp.loc[(yelp.sentiment==\"Positive\")&(yelp.stars==1),'text']"
   ]
  },
  {
   "cell_type": "code",
   "execution_count": 317,
   "id": "76596854",
   "metadata": {},
   "outputs": [],
   "source": [
    "#### POsitive sentiments"
   ]
  },
  {
   "cell_type": "code",
   "execution_count": 318,
   "id": "14d11dec",
   "metadata": {},
   "outputs": [],
   "source": [
    "positive_reviews=yelp.loc[yelp.stars>=4,:]\n",
    "negative_reviews=yelp.loc[yelp.stars<4,:]"
   ]
  },
  {
   "cell_type": "code",
   "execution_count": 319,
   "id": "147c2abd",
   "metadata": {},
   "outputs": [
    {
     "name": "stderr",
     "output_type": "stream",
     "text": [
      "C:\\Users\\gaura\\AppData\\Local\\Temp\\ipykernel_1444\\1573472937.py:1: SettingWithCopyWarning: \n",
      "A value is trying to be set on a copy of a slice from a DataFrame.\n",
      "Try using .loc[row_indexer,col_indexer] = value instead\n",
      "\n",
      "See the caveats in the documentation: https://pandas.pydata.org/pandas-docs/stable/user_guide/indexing.html#returning-a-view-versus-a-copy\n",
      "  positive_reviews['text'] = positive_reviews['text'].apply(lambda x: \" \".join(word for word, pos in pos_tag(x.split()) if pos not in ['NN','NNS','NNP','NNPS'])) #Removing nouns etc\n",
      "C:\\Users\\gaura\\AppData\\Local\\Temp\\ipykernel_1444\\1573472937.py:2: SettingWithCopyWarning: \n",
      "A value is trying to be set on a copy of a slice from a DataFrame.\n",
      "Try using .loc[row_indexer,col_indexer] = value instead\n",
      "\n",
      "See the caveats in the documentation: https://pandas.pydata.org/pandas-docs/stable/user_guide/indexing.html#returning-a-view-versus-a-copy\n",
      "  negative_reviews['text'] = negative_reviews['text'].apply(lambda x: \" \".join(word for word, pos in pos_tag(x.split()) if pos not in ['NN','NNS','NNP','NNPS'])) #Removing nouns etc\n"
     ]
    }
   ],
   "source": [
    "positive_reviews['text'] = positive_reviews['text'].apply(lambda x: \" \".join(word for word, pos in pos_tag(x.split()) if pos not in ['NN','NNS','NNP','NNPS'])) #Removing nouns etc\n",
    "negative_reviews['text'] = negative_reviews['text'].apply(lambda x: \" \".join(word for word, pos in pos_tag(x.split()) if pos not in ['NN','NNS','NNP','NNPS'])) #Removing nouns etc\n"
   ]
  },
  {
   "cell_type": "code",
   "execution_count": null,
   "id": "3abe9ae9",
   "metadata": {},
   "outputs": [],
   "source": []
  },
  {
   "cell_type": "code",
   "execution_count": 320,
   "id": "d9939b8b",
   "metadata": {},
   "outputs": [],
   "source": [
    "### We have to maeke the wordcloud to see the mot number of words in each type of text"
   ]
  },
  {
   "cell_type": "code",
   "execution_count": 321,
   "id": "2573a130",
   "metadata": {},
   "outputs": [],
   "source": [
    "from nltk.corpus import stopwords\n",
    "from wordcloud import WordCloud ,STOPWORDS"
   ]
  },
  {
   "cell_type": "code",
   "execution_count": 322,
   "id": "7df28ccd",
   "metadata": {},
   "outputs": [],
   "source": [
    "stop=stopwords.words('english')"
   ]
  },
  {
   "cell_type": "code",
   "execution_count": 323,
   "id": "b7c2f310",
   "metadata": {},
   "outputs": [],
   "source": [
    "stop=stop+['get','also','go','one','would']"
   ]
  },
  {
   "cell_type": "raw",
   "id": "7f4f0d4b",
   "metadata": {},
   "source": [
    "'''\n",
    "import string\n",
    "def pre_process(text):\n",
    "    #text = text.str.replace('/','')                           #Replacing the / with none\n",
    "    #text = text.apply(lambda x: re.sub(\"  \",\" \", x))          #Replacing double space with single space\n",
    "    #text = re.sub(r\"[-()\\\"#/@;:{}`+=~|.!?,']\", \"\", text)      #Replacing special character with none\n",
    "    #text = re.sub(r'[0-9]+', '', text)                        #Replacing numbers with none\n",
    "    #text = text.apply(lambda x: \" \".join(x.translate(str.maketrans('', '', string.punctuation)) for x in x.split() if x.isalpha()))\n",
    "    text = text.apply(lambda x: \" \".join(x for x in x.split() if x not in stop)) #Removing stop words\n",
    "    text = text.apply(lambda x: \" \".join(x for x in x.split() if len(x) >1)) #Removing stop words\n",
    "    #text = text.apply(lambda x: str(TextBlob(x).correct()))                      #Correct spelling corrections\n",
    "    #text = text.apply(lambda x: \" \".join(PorterStemmer().stem(word) for word in x.split())) #Stemming using porter stemmer\n",
    "    #text = text.apply(lambda x: \" \".join(stemmer_func(word) for word in x.split()))        #Stemming\n",
    "    #text = text.apply(lambda x: \" \".join([Word(word).lemmatize() for word in x.split()]))   #lemmatization\n",
    "   # text = text.apply(lambda x: \" \".join(word for word, pos in pos_tag(x.split()) if pos not in ['NN','NNS','NNP','NNPS'])) #Removing nouns etc\n",
    "    return(text)\n",
    "    '''"
   ]
  },
  {
   "cell_type": "markdown",
   "id": "f073e008",
   "metadata": {},
   "source": [
    "Positive_review = positive_reviews['text'].apply(lambda x: clean_text(x))\n",
    "Positive_review = pre_process(Positive_review)"
   ]
  },
  {
   "cell_type": "code",
   "execution_count": 324,
   "id": "5db14579",
   "metadata": {},
   "outputs": [],
   "source": [
    "#font_path = \"/path/to/your/font.ttf\""
   ]
  },
  {
   "cell_type": "code",
   "execution_count": 325,
   "id": "30e22967",
   "metadata": {},
   "outputs": [
    {
     "data": {
      "text/plain": [
       "<matplotlib.image.AxesImage at 0x1d5bc629d90>"
      ]
     },
     "execution_count": 325,
     "metadata": {},
     "output_type": "execute_result"
    },
    {
     "data": {
      "image/png": "[encoded data removed]",
      "text/plain": [
       "<Figure size 14400x3600 with 1 Axes>"
      ]
     },
     "metadata": {
      "needs_background": "light"
     },
     "output_type": "display_data"
    }
   ],
   "source": [
    "wordcloud = WordCloud(stopwords=stop).generate(''.join(positive_reviews['text']))\n",
    "\n",
    "%matplotlib inline\n",
    "fig = plt.figure(figsize=(200,50))\n",
    "plt.imshow(wordcloud)"
   ]
  },
  {
   "cell_type": "code",
   "execution_count": 326,
   "id": "a0259547",
   "metadata": {},
   "outputs": [],
   "source": [
    "#### Word Cloud for the Negative reviews"
   ]
  },
  {
   "cell_type": "code",
   "execution_count": 327,
   "id": "4f5fca41",
   "metadata": {},
   "outputs": [],
   "source": [
    "stop=stop+['good','nt','like','could','great','nice''even','know']"
   ]
  },
  {
   "cell_type": "code",
   "execution_count": 328,
   "id": "a4f743b2",
   "metadata": {},
   "outputs": [
    {
     "data": {
      "text/plain": [
       "<matplotlib.image.AxesImage at 0x1d5bfd1c040>"
      ]
     },
     "execution_count": 328,
     "metadata": {},
     "output_type": "execute_result"
    },
    {
     "data": {
      "image/png": "[encoded data removed]",
      "text/plain": [
       "<Figure size 14400x3600 with 1 Axes>"
      ]
     },
     "metadata": {
      "needs_background": "light"
     },
     "output_type": "display_data"
    }
   ],
   "source": [
    "wordcloud = WordCloud(stopwords=stop).generate(''.join(negative_reviews['text']))\n",
    "\n",
    "%matplotlib inline\n",
    "fig = plt.figure(figsize=(200,50))\n",
    "plt.imshow(wordcloud)"
   ]
  },
  {
   "cell_type": "markdown",
   "id": "a4576300",
   "metadata": {},
   "source": [
    "#### Text Classification"
   ]
  },
  {
   "cell_type": "code",
   "execution_count": 329,
   "id": "9f0fa104",
   "metadata": {},
   "outputs": [
    {
     "name": "stderr",
     "output_type": "stream",
     "text": [
      "C:\\Users\\gaura\\AppData\\Local\\Temp\\ipykernel_1444\\4084322750.py:1: SettingWithCopyWarning: \n",
      "A value is trying to be set on a copy of a slice from a DataFrame.\n",
      "Try using .loc[row_indexer,col_indexer] = value instead\n",
      "\n",
      "See the caveats in the documentation: https://pandas.pydata.org/pandas-docs/stable/user_guide/indexing.html#returning-a-view-versus-a-copy\n",
      "  yelp['Is_negative']=np.where(yelp.stars>=4,0,1)\n"
     ]
    }
   ],
   "source": [
    "yelp['Is_negative']=np.where(yelp.stars>=4,0,1)"
   ]
  },
  {
   "cell_type": "code",
   "execution_count": 330,
   "id": "3d1945a6",
   "metadata": {},
   "outputs": [
    {
     "data": {
      "text/html": [
       "<div>\n",
       "<style scoped>\n",
       "    .dataframe tbody tr th:only-of-type {\n",
       "        vertical-align: middle;\n",
       "    }\n",
       "\n",
       "    .dataframe tbody tr th {\n",
       "        vertical-align: top;\n",
       "    }\n",
       "\n",
       "    .dataframe thead th {\n",
       "        text-align: right;\n",
       "    }\n",
       "</style>\n",
       "<table border=\"1\" class=\"dataframe\">\n",
       "  <thead>\n",
       "    <tr style=\"text-align: right;\">\n",
       "      <th></th>\n",
       "      <th>date</th>\n",
       "      <th>stars</th>\n",
       "      <th>text</th>\n",
       "      <th>type</th>\n",
       "      <th>cool</th>\n",
       "      <th>useful</th>\n",
       "      <th>funny</th>\n",
       "      <th>sentiment_score</th>\n",
       "      <th>word_len</th>\n",
       "      <th>sentiment</th>\n",
       "      <th>Is_negative</th>\n",
       "    </tr>\n",
       "  </thead>\n",
       "  <tbody>\n",
       "    <tr>\n",
       "      <th>0</th>\n",
       "      <td>2011-01-26</td>\n",
       "      <td>5</td>\n",
       "      <td>my wife took me here on my birthday for breakf...</td>\n",
       "      <td>review</td>\n",
       "      <td>2</td>\n",
       "      <td>5</td>\n",
       "      <td>0</td>\n",
       "      <td>0.413580</td>\n",
       "      <td>871</td>\n",
       "      <td>Positive</td>\n",
       "      <td>0</td>\n",
       "    </tr>\n",
       "    <tr>\n",
       "      <th>1</th>\n",
       "      <td>2011-07-27</td>\n",
       "      <td>5</td>\n",
       "      <td>i have no idea why some people give bad review...</td>\n",
       "      <td>review</td>\n",
       "      <td>0</td>\n",
       "      <td>0</td>\n",
       "      <td>0</td>\n",
       "      <td>0.220870</td>\n",
       "      <td>1315</td>\n",
       "      <td>Positive</td>\n",
       "      <td>0</td>\n",
       "    </tr>\n",
       "    <tr>\n",
       "      <th>2</th>\n",
       "      <td>2012-06-14</td>\n",
       "      <td>4</td>\n",
       "      <td>love the gyro plate  rice is so good and i als...</td>\n",
       "      <td>review</td>\n",
       "      <td>0</td>\n",
       "      <td>1</td>\n",
       "      <td>0</td>\n",
       "      <td>0.600000</td>\n",
       "      <td>73</td>\n",
       "      <td>Positive</td>\n",
       "      <td>0</td>\n",
       "    </tr>\n",
       "    <tr>\n",
       "      <th>3</th>\n",
       "      <td>2010-05-27</td>\n",
       "      <td>5</td>\n",
       "      <td>rosie  dakota  and i love chaparral dog park  ...</td>\n",
       "      <td>review</td>\n",
       "      <td>1</td>\n",
       "      <td>2</td>\n",
       "      <td>0</td>\n",
       "      <td>0.493333</td>\n",
       "      <td>414</td>\n",
       "      <td>Positive</td>\n",
       "      <td>0</td>\n",
       "    </tr>\n",
       "    <tr>\n",
       "      <th>4</th>\n",
       "      <td>2012-01-05</td>\n",
       "      <td>5</td>\n",
       "      <td>general manager scott petello is a good egg   ...</td>\n",
       "      <td>review</td>\n",
       "      <td>0</td>\n",
       "      <td>0</td>\n",
       "      <td>0</td>\n",
       "      <td>0.361111</td>\n",
       "      <td>453</td>\n",
       "      <td>Positive</td>\n",
       "      <td>0</td>\n",
       "    </tr>\n",
       "    <tr>\n",
       "      <th>...</th>\n",
       "      <td>...</td>\n",
       "      <td>...</td>\n",
       "      <td>...</td>\n",
       "      <td>...</td>\n",
       "      <td>...</td>\n",
       "      <td>...</td>\n",
       "      <td>...</td>\n",
       "      <td>...</td>\n",
       "      <td>...</td>\n",
       "      <td>...</td>\n",
       "      <td>...</td>\n",
       "    </tr>\n",
       "    <tr>\n",
       "      <th>9995</th>\n",
       "      <td>2012-07-28</td>\n",
       "      <td>3</td>\n",
       "      <td>first visit  had lunch here today  used my gro...</td>\n",
       "      <td>review</td>\n",
       "      <td>1</td>\n",
       "      <td>2</td>\n",
       "      <td>0</td>\n",
       "      <td>0.217708</td>\n",
       "      <td>649</td>\n",
       "      <td>Positive</td>\n",
       "      <td>1</td>\n",
       "    </tr>\n",
       "    <tr>\n",
       "      <th>9996</th>\n",
       "      <td>2012-01-18</td>\n",
       "      <td>4</td>\n",
       "      <td>should be called house of deliciousness  i cou...</td>\n",
       "      <td>review</td>\n",
       "      <td>0</td>\n",
       "      <td>0</td>\n",
       "      <td>0</td>\n",
       "      <td>0.375541</td>\n",
       "      <td>877</td>\n",
       "      <td>Positive</td>\n",
       "      <td>0</td>\n",
       "    </tr>\n",
       "    <tr>\n",
       "      <th>9997</th>\n",
       "      <td>2010-11-16</td>\n",
       "      <td>4</td>\n",
       "      <td>i recently visited olive and ivy for business ...</td>\n",
       "      <td>review</td>\n",
       "      <td>0</td>\n",
       "      <td>0</td>\n",
       "      <td>0</td>\n",
       "      <td>0.256820</td>\n",
       "      <td>1408</td>\n",
       "      <td>Positive</td>\n",
       "      <td>0</td>\n",
       "    </tr>\n",
       "    <tr>\n",
       "      <th>9998</th>\n",
       "      <td>2012-12-02</td>\n",
       "      <td>2</td>\n",
       "      <td>my nephew just moved to scottsdale recently so...</td>\n",
       "      <td>review</td>\n",
       "      <td>0</td>\n",
       "      <td>0</td>\n",
       "      <td>0</td>\n",
       "      <td>-0.100000</td>\n",
       "      <td>850</td>\n",
       "      <td>Neurtal</td>\n",
       "      <td>1</td>\n",
       "    </tr>\n",
       "    <tr>\n",
       "      <th>9999</th>\n",
       "      <td>2010-10-16</td>\n",
       "      <td>5</td>\n",
       "      <td>locations  all  star average  i think arizona...</td>\n",
       "      <td>review</td>\n",
       "      <td>0</td>\n",
       "      <td>0</td>\n",
       "      <td>0</td>\n",
       "      <td>0.241667</td>\n",
       "      <td>440</td>\n",
       "      <td>Positive</td>\n",
       "      <td>0</td>\n",
       "    </tr>\n",
       "  </tbody>\n",
       "</table>\n",
       "<p>9983 rows × 11 columns</p>\n",
       "</div>"
      ],
      "text/plain": [
       "           date  stars                                               text  \\\n",
       "0    2011-01-26      5  my wife took me here on my birthday for breakf...   \n",
       "1    2011-07-27      5  i have no idea why some people give bad review...   \n",
       "2    2012-06-14      4  love the gyro plate  rice is so good and i als...   \n",
       "3    2010-05-27      5  rosie  dakota  and i love chaparral dog park  ...   \n",
       "4    2012-01-05      5  general manager scott petello is a good egg   ...   \n",
       "...         ...    ...                                                ...   \n",
       "9995 2012-07-28      3  first visit  had lunch here today  used my gro...   \n",
       "9996 2012-01-18      4  should be called house of deliciousness  i cou...   \n",
       "9997 2010-11-16      4  i recently visited olive and ivy for business ...   \n",
       "9998 2012-12-02      2  my nephew just moved to scottsdale recently so...   \n",
       "9999 2010-10-16      5   locations  all  star average  i think arizona...   \n",
       "\n",
       "        type  cool  useful  funny  sentiment_score  word_len sentiment  \\\n",
       "0     review     2       5      0         0.413580       871  Positive   \n",
       "1     review     0       0      0         0.220870      1315  Positive   \n",
       "2     review     0       1      0         0.600000        73  Positive   \n",
       "3     review     1       2      0         0.493333       414  Positive   \n",
       "4     review     0       0      0         0.361111       453  Positive   \n",
       "...      ...   ...     ...    ...              ...       ...       ...   \n",
       "9995  review     1       2      0         0.217708       649  Positive   \n",
       "9996  review     0       0      0         0.375541       877  Positive   \n",
       "9997  review     0       0      0         0.256820      1408  Positive   \n",
       "9998  review     0       0      0        -0.100000       850   Neurtal   \n",
       "9999  review     0       0      0         0.241667       440  Positive   \n",
       "\n",
       "      Is_negative  \n",
       "0               0  \n",
       "1               0  \n",
       "2               0  \n",
       "3               0  \n",
       "4               0  \n",
       "...           ...  \n",
       "9995            1  \n",
       "9996            0  \n",
       "9997            0  \n",
       "9998            1  \n",
       "9999            0  \n",
       "\n",
       "[9983 rows x 11 columns]"
      ]
     },
     "execution_count": 330,
     "metadata": {},
     "output_type": "execute_result"
    }
   ],
   "source": [
    "yelp"
   ]
  },
  {
   "cell_type": "code",
   "execution_count": 331,
   "id": "d0d466df",
   "metadata": {},
   "outputs": [],
   "source": [
    "x=yelp.text\n",
    "y=yelp.Is_negative"
   ]
  },
  {
   "cell_type": "code",
   "execution_count": 332,
   "id": "f944ce8b",
   "metadata": {},
   "outputs": [],
   "source": [
    "train_x,test_x,train_y,test_y=train_test_split(x, y, test_size=0.3, random_state=70)"
   ]
  },
  {
   "cell_type": "code",
   "execution_count": 333,
   "id": "6a468ae6",
   "metadata": {},
   "outputs": [
    {
     "data": {
      "text/plain": [
       "(6988,)"
      ]
     },
     "execution_count": 333,
     "metadata": {},
     "output_type": "execute_result"
    }
   ],
   "source": [
    "train_x.shape"
   ]
  },
  {
   "cell_type": "code",
   "execution_count": 334,
   "id": "df2c9125",
   "metadata": {},
   "outputs": [
    {
     "data": {
      "text/plain": [
       "(2995,)"
      ]
     },
     "execution_count": 334,
     "metadata": {},
     "output_type": "execute_result"
    }
   ],
   "source": [
    "test_x.shape"
   ]
  },
  {
   "cell_type": "code",
   "execution_count": 335,
   "id": "7c61e0cd",
   "metadata": {},
   "outputs": [],
   "source": [
    "#### Vectorization of the text"
   ]
  },
  {
   "cell_type": "code",
   "execution_count": 336,
   "id": "65f9889c",
   "metadata": {},
   "outputs": [],
   "source": [
    "tfidf_vect = TfidfVectorizer(analyzer='word', \n",
    "                             token_pattern=r'\\w{1,}', \n",
    "                             ngram_range=(1, 1 ), \n",
    "                             min_df=5, \n",
    "                             encoding='latin-1' , \n",
    "                             lowercase = True,\n",
    "                             max_features=1000)\n",
    "X_train_tfidf = tfidf_vect.fit_transform(train_x)\n",
    "X_test_tfidf = tfidf_vect.transform(test_x)"
   ]
  },
  {
   "cell_type": "code",
   "execution_count": 337,
   "id": "832d79b4",
   "metadata": {},
   "outputs": [
    {
     "data": {
      "text/plain": [
       "array([[0.        , 0.        , 0.        , ..., 0.        , 0.        ,\n",
       "        0.        ],\n",
       "       [0.17676311, 0.        , 0.        , ..., 0.        , 0.        ,\n",
       "        0.        ],\n",
       "       [0.24141182, 0.        , 0.        , ..., 0.        , 0.        ,\n",
       "        0.        ],\n",
       "       ...,\n",
       "       [0.19637479, 0.        , 0.        , ..., 0.        , 0.14019535,\n",
       "        0.        ],\n",
       "       [0.04886669, 0.17865627, 0.        , ..., 0.        , 0.        ,\n",
       "        0.        ],\n",
       "       [0.11091631, 0.        , 0.        , ..., 0.        , 0.        ,\n",
       "        0.        ]])"
      ]
     },
     "execution_count": 337,
     "metadata": {},
     "output_type": "execute_result"
    }
   ],
   "source": [
    "X_train_tfidf.toarray()"
   ]
  },
  {
   "cell_type": "code",
   "execution_count": 338,
   "id": "a9353695",
   "metadata": {},
   "outputs": [
    {
     "name": "stderr",
     "output_type": "stream",
     "text": [
      "C:\\Users\\gaura\\anaconda3\\lib\\site-packages\\sklearn\\utils\\deprecation.py:87: FutureWarning: Function get_feature_names is deprecated; get_feature_names is deprecated in 1.0 and will be removed in 1.2. Please use get_feature_names_out instead.\n",
      "  warnings.warn(msg, category=FutureWarning)\n",
      "C:\\Users\\gaura\\anaconda3\\lib\\site-packages\\sklearn\\utils\\deprecation.py:87: FutureWarning: Function get_feature_names is deprecated; get_feature_names is deprecated in 1.0 and will be removed in 1.2. Please use get_feature_names_out instead.\n",
      "  warnings.warn(msg, category=FutureWarning)\n"
     ]
    }
   ],
   "source": [
    "dtm_tfidf_train=pd.DataFrame(X_train_tfidf.toarray(), columns=tfidf_vect.get_feature_names())\n",
    "dtm_tfidf_test=pd.DataFrame(X_test_tfidf.toarray(), columns=tfidf_vect.get_feature_names())"
   ]
  },
  {
   "cell_type": "code",
   "execution_count": 339,
   "id": "cb0b6ee1",
   "metadata": {},
   "outputs": [
    {
     "data": {
      "text/html": [
       "<div>\n",
       "<style scoped>\n",
       "    .dataframe tbody tr th:only-of-type {\n",
       "        vertical-align: middle;\n",
       "    }\n",
       "\n",
       "    .dataframe tbody tr th {\n",
       "        vertical-align: top;\n",
       "    }\n",
       "\n",
       "    .dataframe thead th {\n",
       "        text-align: right;\n",
       "    }\n",
       "</style>\n",
       "<table border=\"1\" class=\"dataframe\">\n",
       "  <thead>\n",
       "    <tr style=\"text-align: right;\">\n",
       "      <th></th>\n",
       "      <th>a</th>\n",
       "      <th>able</th>\n",
       "      <th>about</th>\n",
       "      <th>above</th>\n",
       "      <th>absolutely</th>\n",
       "      <th>across</th>\n",
       "      <th>actually</th>\n",
       "      <th>add</th>\n",
       "      <th>added</th>\n",
       "      <th>after</th>\n",
       "      <th>...</th>\n",
       "      <th>years</th>\n",
       "      <th>yelp</th>\n",
       "      <th>yes</th>\n",
       "      <th>yet</th>\n",
       "      <th>you</th>\n",
       "      <th>young</th>\n",
       "      <th>your</th>\n",
       "      <th>yourself</th>\n",
       "      <th>yum</th>\n",
       "      <th>yummy</th>\n",
       "    </tr>\n",
       "  </thead>\n",
       "  <tbody>\n",
       "    <tr>\n",
       "      <th>0</th>\n",
       "      <td>0.000000</td>\n",
       "      <td>0.000000</td>\n",
       "      <td>0.000000</td>\n",
       "      <td>0.0</td>\n",
       "      <td>0.0</td>\n",
       "      <td>0.0</td>\n",
       "      <td>0.0</td>\n",
       "      <td>0.0</td>\n",
       "      <td>0.000000</td>\n",
       "      <td>0.000000</td>\n",
       "      <td>...</td>\n",
       "      <td>0.0</td>\n",
       "      <td>0.0</td>\n",
       "      <td>0.0</td>\n",
       "      <td>0.0</td>\n",
       "      <td>0.090083</td>\n",
       "      <td>0.000000</td>\n",
       "      <td>0.137934</td>\n",
       "      <td>0.0</td>\n",
       "      <td>0.000000</td>\n",
       "      <td>0.000000</td>\n",
       "    </tr>\n",
       "    <tr>\n",
       "      <th>1</th>\n",
       "      <td>0.176763</td>\n",
       "      <td>0.000000</td>\n",
       "      <td>0.000000</td>\n",
       "      <td>0.0</td>\n",
       "      <td>0.0</td>\n",
       "      <td>0.0</td>\n",
       "      <td>0.0</td>\n",
       "      <td>0.0</td>\n",
       "      <td>0.000000</td>\n",
       "      <td>0.000000</td>\n",
       "      <td>...</td>\n",
       "      <td>0.0</td>\n",
       "      <td>0.0</td>\n",
       "      <td>0.0</td>\n",
       "      <td>0.0</td>\n",
       "      <td>0.000000</td>\n",
       "      <td>0.000000</td>\n",
       "      <td>0.000000</td>\n",
       "      <td>0.0</td>\n",
       "      <td>0.000000</td>\n",
       "      <td>0.000000</td>\n",
       "    </tr>\n",
       "    <tr>\n",
       "      <th>2</th>\n",
       "      <td>0.241412</td>\n",
       "      <td>0.000000</td>\n",
       "      <td>0.000000</td>\n",
       "      <td>0.0</td>\n",
       "      <td>0.0</td>\n",
       "      <td>0.0</td>\n",
       "      <td>0.0</td>\n",
       "      <td>0.0</td>\n",
       "      <td>0.000000</td>\n",
       "      <td>0.000000</td>\n",
       "      <td>...</td>\n",
       "      <td>0.0</td>\n",
       "      <td>0.0</td>\n",
       "      <td>0.0</td>\n",
       "      <td>0.0</td>\n",
       "      <td>0.119900</td>\n",
       "      <td>0.000000</td>\n",
       "      <td>0.000000</td>\n",
       "      <td>0.0</td>\n",
       "      <td>0.000000</td>\n",
       "      <td>0.000000</td>\n",
       "    </tr>\n",
       "    <tr>\n",
       "      <th>3</th>\n",
       "      <td>0.082083</td>\n",
       "      <td>0.000000</td>\n",
       "      <td>0.000000</td>\n",
       "      <td>0.0</td>\n",
       "      <td>0.0</td>\n",
       "      <td>0.0</td>\n",
       "      <td>0.0</td>\n",
       "      <td>0.0</td>\n",
       "      <td>0.000000</td>\n",
       "      <td>0.000000</td>\n",
       "      <td>...</td>\n",
       "      <td>0.0</td>\n",
       "      <td>0.0</td>\n",
       "      <td>0.0</td>\n",
       "      <td>0.0</td>\n",
       "      <td>0.061151</td>\n",
       "      <td>0.000000</td>\n",
       "      <td>0.000000</td>\n",
       "      <td>0.0</td>\n",
       "      <td>0.000000</td>\n",
       "      <td>0.000000</td>\n",
       "    </tr>\n",
       "    <tr>\n",
       "      <th>4</th>\n",
       "      <td>0.062487</td>\n",
       "      <td>0.000000</td>\n",
       "      <td>0.063907</td>\n",
       "      <td>0.0</td>\n",
       "      <td>0.0</td>\n",
       "      <td>0.0</td>\n",
       "      <td>0.0</td>\n",
       "      <td>0.0</td>\n",
       "      <td>0.136132</td>\n",
       "      <td>0.077725</td>\n",
       "      <td>...</td>\n",
       "      <td>0.0</td>\n",
       "      <td>0.0</td>\n",
       "      <td>0.0</td>\n",
       "      <td>0.0</td>\n",
       "      <td>0.046553</td>\n",
       "      <td>0.000000</td>\n",
       "      <td>0.000000</td>\n",
       "      <td>0.0</td>\n",
       "      <td>0.133832</td>\n",
       "      <td>0.113299</td>\n",
       "    </tr>\n",
       "    <tr>\n",
       "      <th>...</th>\n",
       "      <td>...</td>\n",
       "      <td>...</td>\n",
       "      <td>...</td>\n",
       "      <td>...</td>\n",
       "      <td>...</td>\n",
       "      <td>...</td>\n",
       "      <td>...</td>\n",
       "      <td>...</td>\n",
       "      <td>...</td>\n",
       "      <td>...</td>\n",
       "      <td>...</td>\n",
       "      <td>...</td>\n",
       "      <td>...</td>\n",
       "      <td>...</td>\n",
       "      <td>...</td>\n",
       "      <td>...</td>\n",
       "      <td>...</td>\n",
       "      <td>...</td>\n",
       "      <td>...</td>\n",
       "      <td>...</td>\n",
       "      <td>...</td>\n",
       "    </tr>\n",
       "    <tr>\n",
       "      <th>6983</th>\n",
       "      <td>0.038143</td>\n",
       "      <td>0.000000</td>\n",
       "      <td>0.000000</td>\n",
       "      <td>0.0</td>\n",
       "      <td>0.0</td>\n",
       "      <td>0.0</td>\n",
       "      <td>0.0</td>\n",
       "      <td>0.0</td>\n",
       "      <td>0.000000</td>\n",
       "      <td>0.000000</td>\n",
       "      <td>...</td>\n",
       "      <td>0.0</td>\n",
       "      <td>0.0</td>\n",
       "      <td>0.0</td>\n",
       "      <td>0.0</td>\n",
       "      <td>0.056833</td>\n",
       "      <td>0.000000</td>\n",
       "      <td>0.000000</td>\n",
       "      <td>0.0</td>\n",
       "      <td>0.000000</td>\n",
       "      <td>0.000000</td>\n",
       "    </tr>\n",
       "    <tr>\n",
       "      <th>6984</th>\n",
       "      <td>0.054885</td>\n",
       "      <td>0.000000</td>\n",
       "      <td>0.000000</td>\n",
       "      <td>0.0</td>\n",
       "      <td>0.0</td>\n",
       "      <td>0.0</td>\n",
       "      <td>0.0</td>\n",
       "      <td>0.0</td>\n",
       "      <td>0.000000</td>\n",
       "      <td>0.000000</td>\n",
       "      <td>...</td>\n",
       "      <td>0.0</td>\n",
       "      <td>0.0</td>\n",
       "      <td>0.0</td>\n",
       "      <td>0.0</td>\n",
       "      <td>0.000000</td>\n",
       "      <td>0.000000</td>\n",
       "      <td>0.000000</td>\n",
       "      <td>0.0</td>\n",
       "      <td>0.000000</td>\n",
       "      <td>0.000000</td>\n",
       "    </tr>\n",
       "    <tr>\n",
       "      <th>6985</th>\n",
       "      <td>0.196375</td>\n",
       "      <td>0.000000</td>\n",
       "      <td>0.000000</td>\n",
       "      <td>0.0</td>\n",
       "      <td>0.0</td>\n",
       "      <td>0.0</td>\n",
       "      <td>0.0</td>\n",
       "      <td>0.0</td>\n",
       "      <td>0.000000</td>\n",
       "      <td>0.081421</td>\n",
       "      <td>...</td>\n",
       "      <td>0.0</td>\n",
       "      <td>0.0</td>\n",
       "      <td>0.0</td>\n",
       "      <td>0.0</td>\n",
       "      <td>0.097532</td>\n",
       "      <td>0.000000</td>\n",
       "      <td>0.000000</td>\n",
       "      <td>0.0</td>\n",
       "      <td>0.140195</td>\n",
       "      <td>0.000000</td>\n",
       "    </tr>\n",
       "    <tr>\n",
       "      <th>6986</th>\n",
       "      <td>0.048867</td>\n",
       "      <td>0.178656</td>\n",
       "      <td>0.000000</td>\n",
       "      <td>0.0</td>\n",
       "      <td>0.0</td>\n",
       "      <td>0.0</td>\n",
       "      <td>0.0</td>\n",
       "      <td>0.0</td>\n",
       "      <td>0.000000</td>\n",
       "      <td>0.000000</td>\n",
       "      <td>...</td>\n",
       "      <td>0.0</td>\n",
       "      <td>0.0</td>\n",
       "      <td>0.0</td>\n",
       "      <td>0.0</td>\n",
       "      <td>0.000000</td>\n",
       "      <td>0.000000</td>\n",
       "      <td>0.000000</td>\n",
       "      <td>0.0</td>\n",
       "      <td>0.000000</td>\n",
       "      <td>0.000000</td>\n",
       "    </tr>\n",
       "    <tr>\n",
       "      <th>6987</th>\n",
       "      <td>0.110916</td>\n",
       "      <td>0.000000</td>\n",
       "      <td>0.000000</td>\n",
       "      <td>0.0</td>\n",
       "      <td>0.0</td>\n",
       "      <td>0.0</td>\n",
       "      <td>0.0</td>\n",
       "      <td>0.0</td>\n",
       "      <td>0.000000</td>\n",
       "      <td>0.045988</td>\n",
       "      <td>...</td>\n",
       "      <td>0.0</td>\n",
       "      <td>0.0</td>\n",
       "      <td>0.0</td>\n",
       "      <td>0.0</td>\n",
       "      <td>0.027544</td>\n",
       "      <td>0.078672</td>\n",
       "      <td>0.000000</td>\n",
       "      <td>0.0</td>\n",
       "      <td>0.000000</td>\n",
       "      <td>0.000000</td>\n",
       "    </tr>\n",
       "  </tbody>\n",
       "</table>\n",
       "<p>6988 rows × 1000 columns</p>\n",
       "</div>"
      ],
      "text/plain": [
       "             a      able     about  above  absolutely  across  actually  add  \\\n",
       "0     0.000000  0.000000  0.000000    0.0         0.0     0.0       0.0  0.0   \n",
       "1     0.176763  0.000000  0.000000    0.0         0.0     0.0       0.0  0.0   \n",
       "2     0.241412  0.000000  0.000000    0.0         0.0     0.0       0.0  0.0   \n",
       "3     0.082083  0.000000  0.000000    0.0         0.0     0.0       0.0  0.0   \n",
       "4     0.062487  0.000000  0.063907    0.0         0.0     0.0       0.0  0.0   \n",
       "...        ...       ...       ...    ...         ...     ...       ...  ...   \n",
       "6983  0.038143  0.000000  0.000000    0.0         0.0     0.0       0.0  0.0   \n",
       "6984  0.054885  0.000000  0.000000    0.0         0.0     0.0       0.0  0.0   \n",
       "6985  0.196375  0.000000  0.000000    0.0         0.0     0.0       0.0  0.0   \n",
       "6986  0.048867  0.178656  0.000000    0.0         0.0     0.0       0.0  0.0   \n",
       "6987  0.110916  0.000000  0.000000    0.0         0.0     0.0       0.0  0.0   \n",
       "\n",
       "         added     after  ...  years  yelp  yes  yet       you     young  \\\n",
       "0     0.000000  0.000000  ...    0.0   0.0  0.0  0.0  0.090083  0.000000   \n",
       "1     0.000000  0.000000  ...    0.0   0.0  0.0  0.0  0.000000  0.000000   \n",
       "2     0.000000  0.000000  ...    0.0   0.0  0.0  0.0  0.119900  0.000000   \n",
       "3     0.000000  0.000000  ...    0.0   0.0  0.0  0.0  0.061151  0.000000   \n",
       "4     0.136132  0.077725  ...    0.0   0.0  0.0  0.0  0.046553  0.000000   \n",
       "...        ...       ...  ...    ...   ...  ...  ...       ...       ...   \n",
       "6983  0.000000  0.000000  ...    0.0   0.0  0.0  0.0  0.056833  0.000000   \n",
       "6984  0.000000  0.000000  ...    0.0   0.0  0.0  0.0  0.000000  0.000000   \n",
       "6985  0.000000  0.081421  ...    0.0   0.0  0.0  0.0  0.097532  0.000000   \n",
       "6986  0.000000  0.000000  ...    0.0   0.0  0.0  0.0  0.000000  0.000000   \n",
       "6987  0.000000  0.045988  ...    0.0   0.0  0.0  0.0  0.027544  0.078672   \n",
       "\n",
       "          your  yourself       yum     yummy  \n",
       "0     0.137934       0.0  0.000000  0.000000  \n",
       "1     0.000000       0.0  0.000000  0.000000  \n",
       "2     0.000000       0.0  0.000000  0.000000  \n",
       "3     0.000000       0.0  0.000000  0.000000  \n",
       "4     0.000000       0.0  0.133832  0.113299  \n",
       "...        ...       ...       ...       ...  \n",
       "6983  0.000000       0.0  0.000000  0.000000  \n",
       "6984  0.000000       0.0  0.000000  0.000000  \n",
       "6985  0.000000       0.0  0.140195  0.000000  \n",
       "6986  0.000000       0.0  0.000000  0.000000  \n",
       "6987  0.000000       0.0  0.000000  0.000000  \n",
       "\n",
       "[6988 rows x 1000 columns]"
      ]
     },
     "execution_count": 339,
     "metadata": {},
     "output_type": "execute_result"
    }
   ],
   "source": [
    "dtm_tfidf_train"
   ]
  },
  {
   "cell_type": "code",
   "execution_count": 340,
   "id": "c5eef21d",
   "metadata": {},
   "outputs": [],
   "source": [
    "#### Model Training"
   ]
  },
  {
   "cell_type": "code",
   "execution_count": 341,
   "id": "67571105",
   "metadata": {},
   "outputs": [],
   "source": [
    "from sklearn.svm import LinearSVC"
   ]
  },
  {
   "cell_type": "code",
   "execution_count": 342,
   "id": "0abdd407",
   "metadata": {},
   "outputs": [],
   "source": [
    "svc=LinearSVC(C=1)"
   ]
  },
  {
   "cell_type": "code",
   "execution_count": 343,
   "id": "d66824e4",
   "metadata": {},
   "outputs": [],
   "source": [
    "lsvc_model=svc.fit(dtm_tfidf_train,train_y)"
   ]
  },
  {
   "cell_type": "code",
   "execution_count": 346,
   "id": "29c265e3",
   "metadata": {},
   "outputs": [
    {
     "name": "stdout",
     "output_type": "stream",
     "text": [
      "              precision    recall  f1-score   support\n",
      "\n",
      "           0       0.90      0.94      0.92      4753\n",
      "           1       0.85      0.77      0.81      2235\n",
      "\n",
      "    accuracy                           0.88      6988\n",
      "   macro avg       0.87      0.85      0.86      6988\n",
      "weighted avg       0.88      0.88      0.88      6988\n",
      "\n",
      "Test Data report\n",
      "              precision    recall  f1-score   support\n",
      "\n",
      "           0       0.87      0.89      0.88      2098\n",
      "           1       0.73      0.68      0.71       897\n",
      "\n",
      "    accuracy                           0.83      2995\n",
      "   macro avg       0.80      0.79      0.79      2995\n",
      "weighted avg       0.83      0.83      0.83      2995\n",
      "\n"
     ]
    }
   ],
   "source": [
    "import sklearn\n",
    "print(sklearn.metrics.classification_report(train_y, lsvc_model.predict(dtm_tfidf_train)))\n",
    "\n",
    "print(\"Test Data report\")\n",
    "print(sklearn.metrics.classification_report(test_y, lsvc_model.predict(dtm_tfidf_test)))"
   ]
  },
  {
   "cell_type": "code",
   "execution_count": 347,
   "id": "e851ca73",
   "metadata": {},
   "outputs": [
    {
     "data": {
      "text/plain": [
       "array([0, 0, 0, ..., 0, 1, 0])"
      ]
     },
     "execution_count": 347,
     "metadata": {},
     "output_type": "execute_result"
    }
   ],
   "source": [
    "lsvc_model.predict(dtm_tfidf_test)"
   ]
  },
  {
   "cell_type": "code",
   "execution_count": 369,
   "id": "7ac66d02",
   "metadata": {},
   "outputs": [],
   "source": [
    "review=\"\"\"I dont like this place! I have been coming here for many times. \n",
    "the food is very bad \\nMy favorites: Elsa's Chicken sandwich, any of their burgers, dragon chicken wings, china's little chicken sandwich, and the hot pepper chicken sandwich.\n",
    "The atmosphere is always fun and the art they display is very abstract but totally cool!\"\"\""
   ]
  },
  {
   "cell_type": "code",
   "execution_count": 370,
   "id": "6c10e3d1",
   "metadata": {},
   "outputs": [
    {
     "data": {
      "text/plain": [
       "\"I dont like this place! I have been coming here for many times. \\nthe food is very bad \\nMy favorites: Elsa's Chicken sandwich, any of their burgers, dragon chicken wings, china's little chicken sandwich, and the hot pepper chicken sandwich.\\nThe atmosphere is always fun and the art they display is very abstract but totally cool!\""
      ]
     },
     "execution_count": 370,
     "metadata": {},
     "output_type": "execute_result"
    }
   ],
   "source": [
    "review"
   ]
  },
  {
   "cell_type": "code",
   "execution_count": 371,
   "id": "d54ea36f",
   "metadata": {},
   "outputs": [],
   "source": [
    "review=' '.join([lemmatizer.lemmatize(word,pos='a') for word in word_tokenize(review)])"
   ]
  },
  {
   "cell_type": "code",
   "execution_count": 372,
   "id": "fe4c39c9",
   "metadata": {},
   "outputs": [
    {
     "data": {
      "text/plain": [
       "\"I dont like this place ! I have been coming here for many times . the food is very bad My favorites : Elsa 's Chicken sandwich , any of their burgers , dragon chicken wings , china 's little chicken sandwich , and the hot pepper chicken sandwich . The atmosphere is always fun and the art they display is very abstract but totally cool !\""
      ]
     },
     "execution_count": 372,
     "metadata": {},
     "output_type": "execute_result"
    }
   ],
   "source": [
    "review"
   ]
  },
  {
   "cell_type": "code",
   "execution_count": 378,
   "id": "f2ef1821",
   "metadata": {},
   "outputs": [],
   "source": [
    "review=''.join(list(clean_text(review)))"
   ]
  },
  {
   "cell_type": "code",
   "execution_count": 389,
   "id": "92c987e1",
   "metadata": {},
   "outputs": [],
   "source": [
    "review=[str(review)]"
   ]
  },
  {
   "cell_type": "code",
   "execution_count": 390,
   "id": "4164d104",
   "metadata": {},
   "outputs": [
    {
     "data": {
      "text/plain": [
       "['i dont like this place  i have been coming here for many times  the food is very bad my favorites  elsa s chicken sandwich  any of their burgers  dragon chicken wings  china s little chicken sandwich  and the hot pepper chicken sandwich  the atmosphere is always fun and the art they display is very abstract but totally cool']"
      ]
     },
     "execution_count": 390,
     "metadata": {},
     "output_type": "execute_result"
    }
   ],
   "source": [
    "review"
   ]
  },
  {
   "cell_type": "code",
   "execution_count": 391,
   "id": "e6535328",
   "metadata": {},
   "outputs": [
    {
     "data": {
      "text/plain": [
       "<1x1000 sparse matrix of type '<class 'numpy.float64'>'\n",
       "\twith 36 stored elements in Compressed Sparse Row format>"
      ]
     },
     "execution_count": 391,
     "metadata": {},
     "output_type": "execute_result"
    }
   ],
   "source": []
  },
  {
   "cell_type": "code",
   "execution_count": 392,
   "id": "dbda0ea8",
   "metadata": {},
   "outputs": [
    {
     "name": "stderr",
     "output_type": "stream",
     "text": [
      "C:\\Users\\gaura\\anaconda3\\lib\\site-packages\\sklearn\\base.py:450: UserWarning: X does not have valid feature names, but LinearSVC was fitted with feature names\n",
      "  warnings.warn(\n"
     ]
    },
    {
     "data": {
      "text/plain": [
       "0"
      ]
     },
     "execution_count": 392,
     "metadata": {},
     "output_type": "execute_result"
    }
   ],
   "source": [
    "lsvc_model.predict(tfidf_vect.transform(review))[0]"
   ]
  },
  {
   "cell_type": "markdown",
   "id": "489b9d22",
   "metadata": {},
   "source": [
    "#### Now we will make another model to predict the stars"
   ]
  },
  {
   "cell_type": "code",
   "execution_count": 401,
   "id": "b7c1567b",
   "metadata": {},
   "outputs": [],
   "source": [
    "x=yelp.text\n",
    "y=yelp.stars"
   ]
  },
  {
   "cell_type": "code",
   "execution_count": 402,
   "id": "8d35e3cb",
   "metadata": {},
   "outputs": [],
   "source": [
    "train_x,test_x,train_y,test_y=train_test_split(x, y, test_size=0.3, random_state=70)"
   ]
  },
  {
   "cell_type": "code",
   "execution_count": 403,
   "id": "a19ddea9",
   "metadata": {},
   "outputs": [
    {
     "data": {
      "text/plain": [
       "(6988,)"
      ]
     },
     "execution_count": 403,
     "metadata": {},
     "output_type": "execute_result"
    }
   ],
   "source": [
    "train_x.shape"
   ]
  },
  {
   "cell_type": "code",
   "execution_count": 404,
   "id": "6bdb5d0f",
   "metadata": {},
   "outputs": [
    {
     "data": {
      "text/plain": [
       "(2995,)"
      ]
     },
     "execution_count": 404,
     "metadata": {},
     "output_type": "execute_result"
    }
   ],
   "source": [
    "test_x.shape"
   ]
  },
  {
   "cell_type": "code",
   "execution_count": 405,
   "id": "2bfbad39",
   "metadata": {},
   "outputs": [],
   "source": [
    "tfidf_vect = TfidfVectorizer(analyzer='word', \n",
    "                             token_pattern=r'\\w{1,}', \n",
    "                             ngram_range=(1, 1 ), \n",
    "                             min_df=5, \n",
    "                             encoding='latin-1' , \n",
    "                             lowercase = True,\n",
    "                             max_features=1000)\n",
    "X_train_tfidf = tfidf_vect.fit_transform(train_x)\n",
    "X_test_tfidf = tfidf_vect.transform(test_x)"
   ]
  },
  {
   "cell_type": "code",
   "execution_count": 406,
   "id": "f4b2ac63",
   "metadata": {},
   "outputs": [
    {
     "name": "stderr",
     "output_type": "stream",
     "text": [
      "C:\\Users\\gaura\\anaconda3\\lib\\site-packages\\sklearn\\utils\\deprecation.py:87: FutureWarning: Function get_feature_names is deprecated; get_feature_names is deprecated in 1.0 and will be removed in 1.2. Please use get_feature_names_out instead.\n",
      "  warnings.warn(msg, category=FutureWarning)\n",
      "C:\\Users\\gaura\\anaconda3\\lib\\site-packages\\sklearn\\utils\\deprecation.py:87: FutureWarning: Function get_feature_names is deprecated; get_feature_names is deprecated in 1.0 and will be removed in 1.2. Please use get_feature_names_out instead.\n",
      "  warnings.warn(msg, category=FutureWarning)\n"
     ]
    }
   ],
   "source": [
    "dtm_tfidf_train=pd.DataFrame(X_train_tfidf.toarray(), columns=tfidf_vect.get_feature_names())\n",
    "dtm_tfidf_test=pd.DataFrame(X_test_tfidf.toarray(), columns=tfidf_vect.get_feature_names())"
   ]
  },
  {
   "cell_type": "code",
   "execution_count": null,
   "id": "45b68088",
   "metadata": {},
   "outputs": [],
   "source": []
  },
  {
   "cell_type": "code",
   "execution_count": 407,
   "id": "36a426d9",
   "metadata": {},
   "outputs": [],
   "source": [
    "from sklearn.svm import LinearSVC"
   ]
  },
  {
   "cell_type": "code",
   "execution_count": 408,
   "id": "3f574f81",
   "metadata": {},
   "outputs": [],
   "source": [
    "svc=LinearSVC(C=1)"
   ]
  },
  {
   "cell_type": "code",
   "execution_count": 409,
   "id": "452f73e8",
   "metadata": {},
   "outputs": [],
   "source": [
    "lsvc_model=svc.fit(dtm_tfidf_train,train_y)"
   ]
  },
  {
   "cell_type": "code",
   "execution_count": 410,
   "id": "7b40a707",
   "metadata": {},
   "outputs": [
    {
     "name": "stdout",
     "output_type": "stream",
     "text": [
      "              precision    recall  f1-score   support\n",
      "\n",
      "           1       0.80      0.80      0.80       524\n",
      "           2       0.77      0.59      0.67       675\n",
      "           3       0.68      0.52      0.59      1036\n",
      "           4       0.66      0.72      0.69      2477\n",
      "           5       0.72      0.77      0.74      2276\n",
      "\n",
      "    accuracy                           0.70      6988\n",
      "   macro avg       0.72      0.68      0.70      6988\n",
      "weighted avg       0.70      0.70      0.70      6988\n",
      "\n",
      "Test Data report\n",
      "              precision    recall  f1-score   support\n",
      "\n",
      "           1       0.52      0.43      0.48       223\n",
      "           2       0.31      0.24      0.27       251\n",
      "           3       0.39      0.29      0.33       423\n",
      "           4       0.48      0.57      0.52      1047\n",
      "           5       0.60      0.61      0.61      1051\n",
      "\n",
      "    accuracy                           0.51      2995\n",
      "   macro avg       0.46      0.43      0.44      2995\n",
      "weighted avg       0.50      0.51      0.50      2995\n",
      "\n"
     ]
    }
   ],
   "source": [
    "import sklearn\n",
    "print(sklearn.metrics.classification_report(train_y, lsvc_model.predict(dtm_tfidf_train)))\n",
    "\n",
    "print(\"Test Data report\")\n",
    "print(sklearn.metrics.classification_report(test_y, lsvc_model.predict(dtm_tfidf_test)))"
   ]
  },
  {
   "cell_type": "code",
   "execution_count": 411,
   "id": "8e310a20",
   "metadata": {},
   "outputs": [
    {
     "data": {
      "text/plain": [
       "array([4, 5, 5, ..., 5, 1, 5], dtype=int64)"
      ]
     },
     "execution_count": 411,
     "metadata": {},
     "output_type": "execute_result"
    }
   ],
   "source": [
    "lsvc_model.predict(dtm_tfidf_test)"
   ]
  },
  {
   "cell_type": "code",
   "execution_count": 449,
   "id": "1805db6d",
   "metadata": {},
   "outputs": [],
   "source": [
    "review=\"\"\"This restraunt was a complete disappointment. Food arrived late, and when I finally got it, it was not cooked well. The quality was poor. I would not recommend it to anyone.\"\"\""
   ]
  },
  {
   "cell_type": "code",
   "execution_count": 450,
   "id": "47c31d94",
   "metadata": {},
   "outputs": [],
   "source": [
    "review=' '.join([lemmatizer.lemmatize(word,pos='a') for word in word_tokenize(review)])\n",
    "review=''.join(list(clean_text(review)))"
   ]
  },
  {
   "cell_type": "code",
   "execution_count": 451,
   "id": "f86a4d91",
   "metadata": {},
   "outputs": [],
   "source": [
    "review=[str(review)]"
   ]
  },
  {
   "cell_type": "code",
   "execution_count": 452,
   "id": "8a427ec5",
   "metadata": {},
   "outputs": [
    {
     "data": {
      "text/plain": [
       "1"
      ]
     },
     "execution_count": 452,
     "metadata": {},
     "output_type": "execute_result"
    }
   ],
   "source": [
    "lsvc_model.predict(tfidf_vect.transform(review))[0]"
   ]
  },
  {
   "cell_type": "code",
   "execution_count": null,
   "id": "b3a1853d",
   "metadata": {},
   "outputs": [],
   "source": []
  },
  {
   "cell_type": "code",
   "execution_count": null,
   "id": "22eae60d",
   "metadata": {},
   "outputs": [],
   "source": []
  }
 ],
 "metadata": {
  "kernelspec": {
   "display_name": "Python 3 (ipykernel)",
   "language": "python",
   "name": "python3"
  },
  "language_info": {
   "codemirror_mode": {
    "name": "ipython",
    "version": 3
   },
   "file_extension": ".py",
   "mimetype": "text/x-python",
   "name": "python",
   "nbconvert_exporter": "python",
   "pygments_lexer": "ipython3",
   "version": "3.9.12"
  }
 },
 "nbformat": 4,
 "nbformat_minor": 5
}
